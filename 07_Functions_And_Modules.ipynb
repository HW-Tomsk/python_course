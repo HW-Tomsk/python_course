{
 "cells": [
  {
   "cell_type": "markdown",
   "metadata": {},
   "source": [
    "# Функции и модули"
   ]
  },
  {
   "cell_type": "markdown",
   "metadata": {},
   "source": [
    "В этой лекции мы расскажем о том, что такое функции в языках программирования и для чего они нужны. Также мы рассмотрим понятия модуля и пакета, познакомимся с некоторыми основными модулями Python и вкратце обсудим парадигму процедурного программирования."
   ]
  },
  {
   "cell_type": "markdown",
   "metadata": {},
   "source": [
    "## Содержание лекции"
   ]
  },
  {
   "cell_type": "markdown",
   "metadata": {},
   "source": [
    "* [Функции](#Функции)\n",
    "  * [Создание и вызов](#Создание-и-вызов)\n",
    "  * [Аргументы и возвращаемое значение](#Аргументы-и-возвращаемое-значение)\n",
    "  * [Лямбда-функции](#Лямбда-функции)\n",
    "* [Модули](#Модули)\n",
    "* [Процедурное программирование](#Процедурное-программирование)\n",
    "* [Вопросы для самоконтроля](#Вопросы-для-самоконтроля)\n",
    "* [Задание](#Задание)"
   ]
  },
  {
   "cell_type": "markdown",
   "metadata": {},
   "source": [
    "## Функции"
   ]
  },
  {
   "cell_type": "markdown",
   "metadata": {},
   "source": [
    "**Функция**, также иногда называемая *подпрограммой* или *процедурой* - это фрагмент исходного кода (как правило, именованный), к которому можно обратиться из других частей программы. Можно говорить о том, что функция представляет собой маленькую законченную программу внутри основной программы (поэтому ее иногда и называют подпрограммой). Большинство функций имеют имя для того, чтобы к ним было удобно обращаться из остальных частей программы. По сути, понятие функции тесно связано с понятием переменной, только первая связывает некоторое имя с блоком исходного кода, а вторая - со значением в памяти (числовым, строковым и т.д.)."
   ]
  },
  {
   "cell_type": "markdown",
   "metadata": {},
   "source": [
    "### Создание и вызов"
   ]
  },
  {
   "cell_type": "markdown",
   "metadata": {},
   "source": [
    "Функции в языке программирования Python создаются с помощью инструкции `def`:"
   ]
  },
  {
   "cell_type": "markdown",
   "metadata": {},
   "source": [
    "<pre>\n",
    "def <i>function_name</i>(<i>parameters_list<i>):\n",
    "    <i>code_block</i>\n",
    "</pre>"
   ]
  },
  {
   "cell_type": "markdown",
   "metadata": {},
   "source": [
    "Имя функции *function_name* должно быть [допустимым идентификатором](04_Data_Types.ipynb#Допустимые-идентификаторы) в языке Python. Поскольку функция как правило выполняет некоторое действие, то в ее имени рекомендуется использовать глаголы. В качестве примера можно привести такие имена функций: `send_message`, `get_inverted_value`, `make_job` и т.д."
   ]
  },
  {
   "cell_type": "markdown",
   "metadata": {},
   "source": [
    "Функция может иметь **параметры**, описываемые в *parameters_list*, который представляет собой 0 или более переменных, разделенных запятыми. Эти переменные \"видны\" **только** внутри функции (в ее *code_block*) так, словно они были созданы в ней явно с помощью инструкций присваивания, и к ним нельзя обратится из других частей исходного кода."
   ]
  },
  {
   "cell_type": "markdown",
   "metadata": {},
   "source": [
    "Компонент *code_block* представляет собой последовательность произвольных инструкций языка программирования Python, в том числе других инструкций `def`. Обратите внимание, что все инструкции в *code_block* должны иметь отступ относительно инструкции `def`."
   ]
  },
  {
   "cell_type": "markdown",
   "metadata": {},
   "source": [
    "В любом месте внутри *code_block* функции можно использовать специальную инструкцию `return` вместе со значением произвольного типа, с помощью которой функция может вернуть результат своей работы."
   ]
  },
  {
   "cell_type": "markdown",
   "metadata": {},
   "source": [
    "Функции используются следующим образом:"
   ]
  },
  {
   "cell_type": "markdown",
   "metadata": {},
   "source": [
    "1. В начале функция создается с помощью инструкции `def`. Не любую последовательность инструкций имеет смысл делать функцией - как правило она должна делать небольшую и четко определенную работу, необходимость в которой может возникать в разных частях исходного кода основной программы. Процесс создания функции, а также соответствующая инструкция `def` в исходном коде, часто называются **определением функции**.\n",
    "2. После того, как функция определена, ее можно использовать в других частях программы для того, чтобы выполнить работу, реализованную в функции. Для этого в нужных местах исходного кода пишут имя функции и в скобках `()` указывают значения для ее параметров. Это называется **вызовом функции**. Переменные и литералы, указанные в скобках при вызове функции называются ее **аргументами**.\n",
    "3. Когда интерпретатор встречает инструкцию вызова функции, он вначале инициализирует с помощью аргументов ее параметры, а затем выполняет *code_block* функции. Можно представлять себе, что при вызове функции интерпретатор как бы вставляет в исходный код инструкции из *code_block*, при этом заменив в них имена параметров на имена аргументов.\n",
    "4. Если в *code_block* функции выполняется инструкция `return`, интерпретатор берет значение, указанное в ней, вставляет его в место вызова функции (говорят, что функция **возвращает** значение), а затем продолжает выполнять программу с этой точки. Можно представлять себе это так, словно значение из инструкции `return` заменило собой инструкцию вызова функции. В `return` можно и не указывать никакого значения - в этом случае возвращается специальное значение `None`.\n",
    "5. Если инструкция `return` не встретилась, то интерпретатор обрабатывает *code_block* функции целиком, а затем выполняет действия, аналогичные тому, как если бы в конце *code_block* была инструкция `return` без значения."
   ]
  },
  {
   "cell_type": "code",
   "execution_count": 1,
   "metadata": {},
   "outputs": [
    {
     "name": "stdout",
     "output_type": "stream",
     "text": [
      "hello, Alice\n",
      "hello, Bob\n"
     ]
    }
   ],
   "source": [
    "# определение функции\n",
    "\n",
    "def print_hello(name):    # name - это параметр функции, который \"виден\" только в ее code_block\n",
    "    print('hello,', name) # это code_block функции, только в нем мы можем обращаться к параметру name\n",
    "\n",
    "# основная программа\n",
    "\n",
    "name1 = 'Alice'\n",
    "name2 = 'Bob'\n",
    "\n",
    "print_hello(name1) # вызов функции print_hello, name1 - это аргумент, который присваивается параметру name\n",
    "print_hello(name2) # вызов функции print_hello с другим аргументом (name2)"
   ]
  },
  {
   "cell_type": "markdown",
   "metadata": {},
   "source": [
    "Определение функции должно находится в исходном коде до ее вызовов. Это ограничение связано с тем, что интерпретатор выполняет исходный код последовательно сверху вниз, поэтому в момент вызова функции должен знать, какой блок кода связан с ней. В следующем пример интерпретатор генерирует исключение `NameError`, так как в момент вызова функции он еще не обрабатывал ее определение:"
   ]
  },
  {
   "cell_type": "code",
   "execution_count": 2,
   "metadata": {},
   "outputs": [
    {
     "ename": "NameError",
     "evalue": "name 'print_hello_world' is not defined",
     "output_type": "error",
     "traceback": [
      "\u001b[1;31m---------------------------------------------------------------------------\u001b[0m",
      "\u001b[1;31mNameError\u001b[0m                                 Traceback (most recent call last)",
      "\u001b[1;32m<ipython-input-2-3a85752e0295>\u001b[0m in \u001b[0;36m<module>\u001b[1;34m()\u001b[0m\n\u001b[0;32m      1\u001b[0m \u001b[1;31m# основная программа\u001b[0m\u001b[1;33m\u001b[0m\u001b[1;33m\u001b[0m\u001b[0m\n\u001b[0;32m      2\u001b[0m \u001b[1;33m\u001b[0m\u001b[0m\n\u001b[1;32m----> 3\u001b[1;33m \u001b[0mprint_hello_world\u001b[0m\u001b[1;33m(\u001b[0m\u001b[1;33m)\u001b[0m\u001b[1;33m\u001b[0m\u001b[0m\n\u001b[0m\u001b[0;32m      4\u001b[0m \u001b[1;33m\u001b[0m\u001b[0m\n\u001b[0;32m      5\u001b[0m \u001b[1;31m# определение функции print_hello_world\u001b[0m\u001b[1;33m\u001b[0m\u001b[1;33m\u001b[0m\u001b[0m\n",
      "\u001b[1;31mNameError\u001b[0m: name 'print_hello_world' is not defined"
     ]
    }
   ],
   "source": [
    "# основная программа\n",
    "\n",
    "print_hello_world()\n",
    "\n",
    "# определение функции print_hello_world\n",
    "# обратите внимание, что функция может не иметь параметров, однако скобки ()\n",
    "# все равно должны присутствовать как в ее определении, так и в ее вызове\n",
    "\n",
    "def print_hello_world():  \n",
    "    print('hello, world')"
   ]
  },
  {
   "cell_type": "markdown",
   "metadata": {},
   "source": [
    "Напомним, что все переменные в Python являются [ссылками](./04_Data_Types.ipynb#Ссылки). Это означает, что при инициализации параметров функции с помощью аргументов, первые начинают указывать на ту же область памяти, что и вторые. Если аргумент имеет неизменяемый тип данных, то модификация соответствующего параметра в *code_block* функции никак не повлияет на значение аргумента, иначе - изменение параматра внутри функции приведет к изменению значения аргумента (подробнее об этом [здесь](./04_Data_Types.ipynb#Изменяемость-типов-данных)). Поскольку пока из всех типов данных, что мы встречали, изменяемым был только тип `Context`, используем его, чтобы продемонстрировать разницу между изменяемыми и неизменяемыми аргументами:"
   ]
  },
  {
   "cell_type": "code",
   "execution_count": 3,
   "metadata": {},
   "outputs": [
    {
     "name": "stdout",
     "output_type": "stream",
     "text": [
      "before function: var = 1\n",
      "in function: var = 2\n",
      "after function: var = 1\n",
      "before function: ctx.prec = 28\n",
      "in function: ctx.prec = 29\n",
      "after function: ctx.prec = 29\n"
     ]
    }
   ],
   "source": [
    "import decimal\n",
    "\n",
    "def add_one_to_variable(var):\n",
    "    var += 1\n",
    "    print('in function: var =', var)\n",
    "\n",
    "def add_one_to_prec(ctx):\n",
    "    ctx.prec += 1\n",
    "    print('in function: ctx.prec =', ctx.prec)\n",
    "\n",
    "var = 1\n",
    "ctx = decimal.getcontext()\n",
    "\n",
    "print('before function: var =', var)\n",
    "add_one_to_variable(var)\n",
    "print('after function: var =', var)\n",
    "\n",
    "print('before function: ctx.prec =', ctx.prec)\n",
    "add_one_to_prec(ctx)\n",
    "print('after function: ctx.prec =', ctx.prec)"
   ]
  },
  {
   "cell_type": "markdown",
   "metadata": {},
   "source": [
    "Как видите, модификация неизменяемого типа внутри функции видна только в ее *code_block*, в то время как модификация изменямого остается в силе и после возврата из функции."
   ]
  },
  {
   "cell_type": "markdown",
   "metadata": {},
   "source": [
    "### Аргументы и возвращаемое значение"
   ]
  },
  {
   "cell_type": "markdown",
   "metadata": {},
   "source": [
    "В примерах, которые были только что рассмотрены, выигрыш от использования функций небольшой - можно было бы просто вместо них везде писать их *code_block*. Рассмотрим более полезную функцию, вычисляющую площадь треугольника по длинам его сторон ([формула Герона](https://ru.wikipedia.org/wiki/%D0%A4%D0%BE%D1%80%D0%BC%D1%83%D0%BB%D0%B0_%D0%93%D0%B5%D1%80%D0%BE%D0%BD%D0%B0)):"
   ]
  },
  {
   "cell_type": "code",
   "execution_count": 4,
   "metadata": {},
   "outputs": [
    {
     "name": "stdout",
     "output_type": "stream",
     "text": [
      "a = 3 , b = 4 , c = 5\n",
      "area = 6.0\n"
     ]
    }
   ],
   "source": [
    "def get_triangle_area(a, b, c):\n",
    "    print('a =', a, ', b =', b, ', c =', c)\n",
    "    p = (a + b + c) / 2\n",
    "    return (p * (p - a) * (p - b) * (p - c)) ** 0.5\n",
    "\n",
    "area = get_triangle_area(3, 4, 5)\n",
    "print('area =', area)"
   ]
  },
  {
   "cell_type": "markdown",
   "metadata": {},
   "source": [
    "В этой функции мы видим инструкцию `return`, возвращающую значение выражения для площади треугольника, которое затем присваивается переменной `area`."
   ]
  },
  {
   "cell_type": "markdown",
   "metadata": {},
   "source": [
    "Аргументы, с которыми вызывается функция `get_triangle_area` в примере выше называются **позиционными** - они присиваиваются параметрам в том порядке, в котором указаны в инструкции вызова функции, то есть параметр `a` становится равен трем, `b` четырем, а `c` - пяти."
   ]
  },
  {
   "cell_type": "markdown",
   "metadata": {},
   "source": [
    "При вызове функции также можно использовать **именованные аргументы**, которые явно указывают, какому параметру какое значение нужно присвоить. Именованные аргументы могут идти в любом порядке, и даже использоваться вместе с позиционными, правда обязательно **после** них. Какую бы комбинацию именованных и позиционных аргументов вы ни использовали, важно, чтобы в итоге все параметры были проинициализированы, или будет сгенерировано исключение."
   ]
  },
  {
   "cell_type": "code",
   "execution_count": 5,
   "metadata": {},
   "outputs": [
    {
     "name": "stdout",
     "output_type": "stream",
     "text": [
      "a = 5 , b = 10 , c = 7\n",
      "area1 = 16.24807680927192\n",
      "a = 5 , b = 10 , c = 7\n",
      "area2 = 16.24807680927192\n",
      "a = 5 , b = 10 , c = 7\n",
      "area3 = 16.24807680927192\n"
     ]
    }
   ],
   "source": [
    "# во всех примерах ниже параметры функции get_triangle_area: a = 5, b = 10, c = 7\n",
    "\n",
    "# позиционные аргументы\n",
    "print('area1 =', get_triangle_area(5, 10, 7))\n",
    "\n",
    "# именованные аргументы\n",
    "print('area2 =', get_triangle_area(c=7, a=5, b=10))\n",
    "\n",
    "# позиционны и именованные аргументы\n",
    "print('area3 =', get_triangle_area(5, c=7, b=10))"
   ]
  },
  {
   "cell_type": "markdown",
   "metadata": {},
   "source": [
    "Приведем также примеры некорректных вызовов функции `get_triangle_area`:"
   ]
  },
  {
   "cell_type": "code",
   "execution_count": 6,
   "metadata": {},
   "outputs": [
    {
     "ename": "SyntaxError",
     "evalue": "positional argument follows keyword argument (<ipython-input-6-e953892bf87c>, line 1)",
     "output_type": "error",
     "traceback": [
      "\u001b[1;36m  File \u001b[1;32m\"<ipython-input-6-e953892bf87c>\"\u001b[1;36m, line \u001b[1;32m1\u001b[0m\n\u001b[1;33m    get_triangle_area(a=1, 2, 3)          # позиционный аргумент идет после именованного\u001b[0m\n\u001b[1;37m                          ^\u001b[0m\n\u001b[1;31mSyntaxError\u001b[0m\u001b[1;31m:\u001b[0m positional argument follows keyword argument\n"
     ]
    }
   ],
   "source": [
    "get_triangle_area(a=1, 2, 3)          # позиционный аргумент идет после именованного\n",
    "get_triangle_area(1, b=2)             # слишком мало аргументов\n",
    "get_triangle_area(a=1, b=2, c=3, d=4) # неизвестный параметр d"
   ]
  },
  {
   "cell_type": "markdown",
   "metadata": {},
   "source": [
    "В нашей текущей реализации функции `get_triangle_area` не учтен тот факт, что не всякие три числа могут быть использованы в качестве длин сторон треугольника, поэтому давайте добавим в нее соответствующую проверку. Если параметры корректны, то мы будем высчитывать и возвращать площадь треугольника, а в случае ошибки - возвращать специальное значение `None`, которое позволит обнаружить ее в том месте, где вызывается наша функция. Этот прием (использование `None` в качестве результата в случае ошибки) очень распространен и встречается во многих функциях в Python."
   ]
  },
  {
   "cell_type": "code",
   "execution_count": 7,
   "metadata": {},
   "outputs": [
    {
     "name": "stdout",
     "output_type": "stream",
     "text": [
      "area = 51.521233486786784\n"
     ]
    }
   ],
   "source": [
    "def get_triangle_area(a, b, c):\n",
    "    # из школьного курса геометрии известно, что сумма любых двух\n",
    "    # сторон треугольника должна быть строго больше третьей стороны\n",
    "    if a + b <= c or a + c <= b or b + c <= a:\n",
    "        return None # в принципе, можно было написать просто \"return\", но так понятнее\n",
    "    \n",
    "    p = (a + b + c) / 2\n",
    "    return (p * (p - a) * (p - b) * (p - c)) ** 0.5\n",
    "\n",
    "# длины сторон треугольника\n",
    "\n",
    "a = 10\n",
    "b = 11\n",
    "c = 12\n",
    "\n",
    "# вычисляем площадь (здесь a, b, c - позиционные аргументы, с помощью которых будут\n",
    "# проинициализированны параметры функции)\n",
    "area = get_triangle_area(a, b, c) \n",
    "\n",
    "# проверяем, что не произошло ошибки\n",
    "\n",
    "if area is not None:\n",
    "    print('area =', area)\n",
    "else:\n",
    "    print('bad triangle sides!')"
   ]
  },
  {
   "cell_type": "markdown",
   "metadata": {},
   "source": [
    "Обратите внимание, что для проверки того, равна ли переменная `area` специальному значению `None`, следует использовать операцию `is` или `is not`, а не `==`."
   ]
  },
  {
   "cell_type": "markdown",
   "metadata": {},
   "source": [
    "Убедимся, что наша программа работает правильно и при некорректных значениях длин сторон треугольника:"
   ]
  },
  {
   "cell_type": "code",
   "execution_count": 8,
   "metadata": {},
   "outputs": [
    {
     "name": "stdout",
     "output_type": "stream",
     "text": [
      "bad triangle sides!\n"
     ]
    }
   ],
   "source": [
    "a = 1\n",
    "b = 1\n",
    "c = 5\n",
    "\n",
    "area = get_triangle_area(a, b, c) \n",
    "\n",
    "if area is not None:\n",
    "    print('area =', area)\n",
    "else:\n",
    "    print('bad triangle sides!')"
   ]
  },
  {
   "cell_type": "markdown",
   "metadata": {},
   "source": [
    "Заметим, что внутри функции может находиться определение другой функции. Такие функции иногда называют **локальными**, потому что их можно вызвать только в *code_block* функции, в которой они определены. В противовес этому, обычные функции, которые мы рассматривали выше, называют **глобальными**, потому что они могут использоваться в любой части исходного кода программы. Перепишем наш пример с использованием локальной функции:"
   ]
  },
  {
   "cell_type": "code",
   "execution_count": 9,
   "metadata": {},
   "outputs": [
    {
     "data": {
      "text/plain": [
       "8.78564169540279"
      ]
     },
     "execution_count": 9,
     "metadata": {},
     "output_type": "execute_result"
    }
   ],
   "source": [
    "def get_triangle_area(a, b, c): # глобальная функция \n",
    "    def get_half_perimeter():   # локальная функция\n",
    "        return (a + b + c) / 2  # внутри локальной функции видны параметры глобальной!\n",
    "    \n",
    "    if a + b <= c or a + c <= b or b + c <= a:\n",
    "        return None\n",
    "    \n",
    "    p = get_half_perimeter()    # вызываем локальную функцию\n",
    "    return (p * (p - a) * (p - b) * (p - c)) ** 0.5\n",
    "\n",
    "get_triangle_area(3, 7, 9)"
   ]
  },
  {
   "cell_type": "markdown",
   "metadata": {},
   "source": [
    "При попытке вызвать локальную функцию вне глобальной, в которой она определена, мы получим уже хорошо знакомую нам ошибку `NameError`:"
   ]
  },
  {
   "cell_type": "code",
   "execution_count": 10,
   "metadata": {},
   "outputs": [
    {
     "ename": "NameError",
     "evalue": "name 'get_half_perimeter' is not defined",
     "output_type": "error",
     "traceback": [
      "\u001b[1;31m---------------------------------------------------------------------------\u001b[0m",
      "\u001b[1;31mNameError\u001b[0m                                 Traceback (most recent call last)",
      "\u001b[1;32m<ipython-input-10-b71b920a0cad>\u001b[0m in \u001b[0;36m<module>\u001b[1;34m()\u001b[0m\n\u001b[1;32m----> 1\u001b[1;33m \u001b[0mget_half_perimeter\u001b[0m\u001b[1;33m(\u001b[0m\u001b[1;33m)\u001b[0m\u001b[1;33m\u001b[0m\u001b[0m\n\u001b[0m",
      "\u001b[1;31mNameError\u001b[0m: name 'get_half_perimeter' is not defined"
     ]
    }
   ],
   "source": [
    "get_half_perimeter()"
   ]
  },
  {
   "cell_type": "markdown",
   "metadata": {},
   "source": [
    "При определении функции с помощью инструкции `def` для некоторых параметров можно указать *значение по умолчанию*. Такие параметры становятся *необязательными*, то есть при вызове функции можно не указывать аргументы для них, при этом параметры инициализируются своими значениями по умолчанию. Рассмотрим функцию, которая укорачивает произвольный текст до определенного количества символов, добавляя в конец индикатор того, что текст бы сокращен. В примере мы воспользуемся встроенной в Python функцией `len`, которая принимает в качестве параметра строку и возвращает количество символов в ней."
   ]
  },
  {
   "cell_type": "code",
   "execution_count": 11,
   "metadata": {},
   "outputs": [],
   "source": [
    "def get_short_string(text, length=15, indicator='...'):\n",
    "    if len(text) <= length:\n",
    "        return text\n",
    "    \n",
    "    indicator_len = len(indicator)\n",
    "    result = text[:length-indicator_len] + indicator\n",
    "    return result"
   ]
  },
  {
   "cell_type": "markdown",
   "metadata": {},
   "source": [
    "У функции `get_short_string` есть два необязательных параметра `length` и `indicator`, для которых задано значение по умолчанию (указывается с помощью знака `=` в определении функции `def`), а значит при ее вызове их можно не указывать:"
   ]
  },
  {
   "cell_type": "code",
   "execution_count": 12,
   "metadata": {},
   "outputs": [
    {
     "name": "stdout",
     "output_type": "stream",
     "text": [
      "To be or not to b***\n",
      "To be o...\n",
      "To be or not***\n",
      "To be or not...\n"
     ]
    }
   ],
   "source": [
    "text = 'To be or not to be, that is the question'\n",
    "\n",
    "print(get_short_string(text, 20, '***'))       # явно задаем значения для всех параметров\n",
    "print(get_short_string(text, length=10))       # indicator будет иметь значение по умолчанию\n",
    "print(get_short_string(text, indicator='***')) # length будет иметь значение по умолчанию\n",
    "print(get_short_string(text))                  # length и indicator будут иметь значение по умолчанию"
   ]
  },
  {
   "cell_type": "markdown",
   "metadata": {},
   "source": [
    "Значения по умолчанию часто используются в определении функции, у которой есть параметры, как правило устанавливаемые в одно и то же значение при вызове. Это с одной стороны делает использование такой функции удобным, так как не нужно при ее вызове указывать множество несущественных аргументов, а с другой - гибким, поскольку в частном случае можно добиться нужного результата, явно указав значение для некоторого параметра."
   ]
  },
  {
   "cell_type": "markdown",
   "metadata": {},
   "source": [
    "Если вы хотите сделать несколько параметров своей функции необязательными (т.е. имеющими значение по умолчанию), все их нужно указывать **после** обязательных параметров в инструкции `def`, например такое определение является некорректным:"
   ]
  },
  {
   "cell_type": "code",
   "execution_count": 13,
   "metadata": {},
   "outputs": [
    {
     "ename": "SyntaxError",
     "evalue": "non-default argument follows default argument (<ipython-input-13-29fa1a732243>, line 1)",
     "output_type": "error",
     "traceback": [
      "\u001b[1;36m  File \u001b[1;32m\"<ipython-input-13-29fa1a732243>\"\u001b[1;36m, line \u001b[1;32m1\u001b[0m\n\u001b[1;33m    def my_function(param1, param2=0, param3):\u001b[0m\n\u001b[1;37m                   ^\u001b[0m\n\u001b[1;31mSyntaxError\u001b[0m\u001b[1;31m:\u001b[0m non-default argument follows default argument\n"
     ]
    }
   ],
   "source": [
    "def my_function(param1, param2=0, param3):\n",
    "    print('my function')"
   ]
  },
  {
   "cell_type": "markdown",
   "metadata": {},
   "source": [
    "Функции можно присваивать переменным, а затем вызывать их через эти переменные:"
   ]
  },
  {
   "cell_type": "code",
   "execution_count": 14,
   "metadata": {},
   "outputs": [
    {
     "name": "stdout",
     "output_type": "stream",
     "text": [
      "---hello---\n"
     ]
    }
   ],
   "source": [
    "def decorate_text(text):\n",
    "    return '---' + text + '---'\n",
    "\n",
    "a = decorate_text\n",
    "decorated_text = a('hello')\n",
    "print(decorated_text)"
   ]
  },
  {
   "cell_type": "markdown",
   "metadata": {},
   "source": [
    "Этот прием позволяет создавать интересные конструкции, например, использовать функцию в качестве параметра другой функции. Рассмотрим такой пример:"
   ]
  },
  {
   "cell_type": "code",
   "execution_count": 15,
   "metadata": {},
   "outputs": [
    {
     "name": "stdout",
     "output_type": "stream",
     "text": [
      "---hello, Alice---\n",
      "***hello, Bob***\n"
     ]
    }
   ],
   "source": [
    "def decorate_text1(text):\n",
    "    return '---' + text + '---'\n",
    "\n",
    "def decorate_text2(text):\n",
    "    return '***' + text + '***'\n",
    "\n",
    "def decorate_text3(text):\n",
    "    return '+++' + text + '+++'\n",
    "\n",
    "def print_hello(name, decorator=decorate_text1):\n",
    "    hello_text = 'hello, ' + name\n",
    "    hello_text = decorator(hello_text)\n",
    "    print(hello_text)\n",
    "\n",
    "print_hello('Alice')\n",
    "print_hello('Bob', decorate_text2)"
   ]
  },
  {
   "cell_type": "markdown",
   "metadata": {},
   "source": [
    "### Лямбда-функции"
   ]
  },
  {
   "cell_type": "markdown",
   "metadata": {},
   "source": [
    "**Лямбда-функция** представляет собой анонимную функцию, создаваемую следующей инструкцией:"
   ]
  },
  {
   "cell_type": "markdown",
   "metadata": {},
   "source": [
    "<pre>\n",
    "lambda <i>parameters_list</i>: <i>expression</i>\n",
    "</pre>"
   ]
  },
  {
   "cell_type": "markdown",
   "metadata": {},
   "source": [
    "Как и для обычных функций, *parameters_list* представляет собой 0 или более переменных, разделенных запятыми. Для них можно указывать значение по умолчанию по тем же правилам, что и для обычных функций."
   ]
  },
  {
   "cell_type": "markdown",
   "metadata": {},
   "source": [
    "*Expression* представляет собой некоторое выражение языка программирования Python, например, арифметическое, логическое или условное."
   ]
  },
  {
   "cell_type": "markdown",
   "metadata": {},
   "source": [
    "Приведем простой пример лямбда-функции, которая возвращает модуль числа:"
   ]
  },
  {
   "cell_type": "code",
   "execution_count": 16,
   "metadata": {},
   "outputs": [
    {
     "name": "stdout",
     "output_type": "stream",
     "text": [
      "5\n",
      "5\n"
     ]
    }
   ],
   "source": [
    "abs_value = lambda x: x if x >= 0 else -x # используем условное выражение в качестве лямбда-функции\n",
    "print(abs_value(5))\n",
    "print(abs_value(-5))"
   ]
  },
  {
   "cell_type": "markdown",
   "metadata": {},
   "source": [
    "Рассмотрим последний пример из предыдущего раздела. Хорошая функция должна представлять собой законченную небольшую программу, которая может многократно использоваться в других участках кода (подробнее об этом читайте ниже в разделе [Процедурное программирование](#Процедурное-программирование)). Сказать это о функциях `decorate_text` мы не можем - они используются лишь как параметры для функции `print_hello`, и вряд ли понадобятся где-либо еще. Поэтому этот пример лучше переписать с использованием лямбда-функций:"
   ]
  },
  {
   "cell_type": "code",
   "execution_count": 17,
   "metadata": {},
   "outputs": [
    {
     "name": "stdout",
     "output_type": "stream",
     "text": [
      "---hello, Alice---\n"
     ]
    }
   ],
   "source": [
    "# обратите внимание на то, как мы используем лямбда-функцию в качестве значения по умолчанию\n",
    "def print_hello(name, decorator = lambda text: '---' + text + '---'):\n",
    "    hello_text = 'hello, ' + name\n",
    "    hello_text = decorator(hello_text)\n",
    "    print(hello_text)\n",
    "\n",
    "print_hello('Alice')"
   ]
  },
  {
   "cell_type": "markdown",
   "metadata": {},
   "source": [
    "Если нам потребуется любой другой способ декорирование текста, мы можем указать его прямо при вызове функции `print_hello`:"
   ]
  },
  {
   "cell_type": "code",
   "execution_count": 18,
   "metadata": {},
   "outputs": [
    {
     "name": "stdout",
     "output_type": "stream",
     "text": [
      "***hello, Bob***\n",
      "===hello, Cooper===\n"
     ]
    }
   ],
   "source": [
    "print_hello('Bob', lambda text: '***' + text + '***')\n",
    "print_hello('Cooper', lambda text: '===' + text + '===')"
   ]
  },
  {
   "cell_type": "markdown",
   "metadata": {},
   "source": [
    "## Модули"
   ]
  },
  {
   "cell_type": "markdown",
   "metadata": {},
   "source": [
    "## Процедурное программирование"
   ]
  },
  {
   "cell_type": "markdown",
   "metadata": {},
   "source": [
    "## Вопросы для самоконтроля"
   ]
  },
  {
   "cell_type": "markdown",
   "metadata": {},
   "source": [
    "1. Что такое функция? Чем она похожа на переменную?\n",
    "2. Что такое определение функции? Что такое вызов функции?\n",
    "3. Что такое параметр и аргумент функции? Какими двумя способами можно передать аргументы в вызов функции?\n",
    "4. В чем особенности локальных функций? Лямбда-функций? Какой еще тип функций бывает?"
   ]
  },
  {
   "cell_type": "markdown",
   "metadata": {},
   "source": [
    "## Задание"
   ]
  },
  {
   "cell_type": "markdown",
   "metadata": {},
   "source": [
    "- - -\n",
    "[Предыдущая: Инструкция ветвления и циклы](06_Branch_Instruction_And_Loops.ipynb) |\n",
    "[Содержание](00_Overview.ipynb#Содержание) |\n",
    "[Следующая: Классы и исключения](08_Classes_And_Exceptions.ipynb)"
   ]
  }
 ],
 "metadata": {
  "kernelspec": {
   "display_name": "Python 3",
   "language": "python",
   "name": "python3"
  },
  "language_info": {
   "codemirror_mode": {
    "name": "ipython",
    "version": 3
   },
   "file_extension": ".py",
   "mimetype": "text/x-python",
   "name": "python",
   "nbconvert_exporter": "python",
   "pygments_lexer": "ipython3",
   "version": "3.6.4"
  }
 },
 "nbformat": 4,
 "nbformat_minor": 2
}
