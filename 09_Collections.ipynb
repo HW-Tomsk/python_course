{
 "cells": [
  {
   "cell_type": "markdown",
   "metadata": {},
   "source": [
    "# Коллекции"
   ]
  },
  {
   "cell_type": "markdown",
   "metadata": {},
   "source": [
    "В этой лекции мы познакомимся с **коллекциями** (также называемыми **контейнерами**) - специальными классами, предназначенными для хранения множества объектов и предоставляющими доступ к ним. В Python существует несколько разновидностей коллекций - часть из них относится к встроенным типам данных, другие реализованы в отдельных модулях. Это многообразие связано с тем, что невозможно создать один тип, оптимально подходящий для всех возможных классов задач. Кроме того, многие коллекции относятся к [неизменяемым](04_Data_Types.ipynb#Изменяемость-типов-данных) типам данных и запрещают модификацию своих элементов. Это делает их непригодными для задач, где нужно часто изменять значения элементов, но позволяет эффективнее реализовать некоторые другие операции. В данной лекции мы стараемся обращаем внимание читателя на то, когда применять тот или иной тип коллекции."
   ]
  },
  {
   "cell_type": "markdown",
   "metadata": {},
   "source": [
    "## Содержание лекции"
   ]
  },
  {
   "cell_type": "markdown",
   "metadata": {},
   "source": [
    "* [Общая информация](#Общая-информация)\n",
    "* [Последовательности](#Последовательности)\n",
    "  * [Кортеж](#Кортеж)\n",
    "  * [Именованный кортеж](#Именованный-кортеж)\n",
    "  * [Список](#Список)\n",
    "  * [Строка](#Строка)\n",
    "  * [Распаковка последовательностей](#Распаковка-последовательностей)\n",
    "  * [Общие функции](#Общие-функции)\n",
    "* [Вопросы для самоконтроля](#Вопросы-для-самоконтроля)\n",
    "* [Задание](#Задание)"
   ]
  },
  {
   "cell_type": "markdown",
   "metadata": {},
   "source": [
    "## Общая информация"
   ]
  },
  {
   "cell_type": "markdown",
   "metadata": {},
   "source": [
    "Все коллекции относятся к итерируемым типам данных, то есть предоставляют доступ к отдельным элементам в некотором порядке. Для этого у каждого типа коллекции реализован специальный метод `__iter__`, который возвращает специфичный для нее **итератор** - специальный объект, имеющий метод `__next__`, который используется интерпретатором Python в цикле `for ... in` для получения следующего элемента. Когда метод `__next__` итератора генерирует исключение `StopIteration`, интерпретатор сам перехватывает его и завершает выполнения цикла, переходя к следующей за ним инструкции. Еще одна часто применяемая к коллекциям любого типа операция - определение количества элементов в ней - представлена функцией `len`."
   ]
  },
  {
   "cell_type": "markdown",
   "metadata": {},
   "source": [
    "Типы коллекций объединены в иерархию наследования. Следствием этого является тот факт, что один и тот же код зачастую способен работать с разными типами, ведь все они реализуют общие интерфейсы, наследуемые от базовых классов. Помимо этого, каждый отдельно взятый тип коллекции может добавлять специфичные для него методы."
   ]
  },
  {
   "cell_type": "markdown",
   "metadata": {},
   "source": [
    "В примерах в этой лекции мы будем использовать простой класс для демонстрации тех или иных возможностей различных коллекций. Ниже представлена его реализация."
   ]
  },
  {
   "cell_type": "code",
   "execution_count": 80,
   "metadata": {},
   "outputs": [],
   "source": [
    "class CollectionItem:\n",
    "    def __init__(self, value):\n",
    "        self.value = value\n",
    "    \n",
    "    # переопределяем метод для того, чтобы объекты класса `CollectionItem`\n",
    "    # нормально выводились на экран при печати коллекции, содержащей их\n",
    "    def __repr__(self):\n",
    "        return 'CollectionItem({})'.format(self.value)\n",
    "    \n",
    "    # методы, которые потребуются при сравнении коллекций и при\n",
    "    # поиске элементов в них\n",
    "\n",
    "    def __eq__(self, other):\n",
    "        if isinstance(other, CollectionItem):\n",
    "            return self.value == other.value\n",
    "        return NotImplemented\n",
    "\n",
    "    def __lt__(self, other):\n",
    "        if isinstance(other,CollectionItem):\n",
    "            return self.value < other.value\n",
    "        return NotImplemented\n",
    "\n",
    "    def __le__(self, other):\n",
    "        if isinstance(other,CollectionItem):\n",
    "            return self.value <= other.value\n",
    "        return NotImplemented"
   ]
  },
  {
   "cell_type": "markdown",
   "metadata": {},
   "source": [
    "## Последовательности"
   ]
  },
  {
   "cell_type": "markdown",
   "metadata": {},
   "source": [
    "**Последовательностью** (англ. *sequence*) в Python называют коллекцию, представляющую собой набор пронумерованных элементов. Номер элемента определяет его позицию в последовательности и по другому еще называется **индексом**. Нумерация начинается с нуля, то есть в последовательности размера $N$ содержатся элементы с индексами $0$, $1$, ... ,  $N-1$."
   ]
  },
  {
   "cell_type": "markdown",
   "metadata": {},
   "source": [
    "Один из типов коллекций, относящийся к последовательностям, нам уже известен - это `str` (элементами, которые он хранит, являются символы). Последовательности поддерживают операции конкатенации `+` и дублирования `*`, про которые мы рассказывали в контексте типа `str` [здесь](05_Operations.ipynb#Строковые-операции). Еще для них можно выполнять операцию взятия среза `[]`, рассмотренную там же, и операцию проверки на вхождение `in`, которая определяет, содержится ли определенный элемент в последовательности."
   ]
  },
  {
   "cell_type": "markdown",
   "metadata": {},
   "source": [
    "Также последовательности могу сравниваться друг с другом с помощью стандартных операций `<`, `<=`, `==`, `!=`, `>=`, `>`. Сравнение при этом производится поэлементно."
   ]
  },
  {
   "cell_type": "markdown",
   "metadata": {},
   "source": [
    "Кроме уже перечисленных операций, стоит упомянуть о двух методах, также реализованных всеми последовательностями. Заметим, что необязательные параметры методов или функции здесь и далее выделяются курсивом, а с помощью символов \"...\" мы иногда указываем, что в описании были перечислены не все параметры (за дополнительной информацией можно обратиться к справочному руководству Python)."
   ]
  },
  {
   "cell_type": "markdown",
   "metadata": {},
   "source": [
    "| <p align=\"left\">Метод</p> | Описание |\n",
    "|---------------------------|----------|\n",
    "| <p align=\"left\"><samp>seq.count(item)</samp></p>                                                                              | Возвращает количество элементов, равных <samp>item</samp>, в последовательности                                              |\n",
    "| <p align=\"left\"><samp>seq.index(item, <i>start</i>=0, <i>end</i>=len(seq))</samp></p>                                          | Возвращает индекс первого элемента, равного <samp>item</samp>, из среза <samp>\\[start, end)</samp>                           |"
   ]
  },
  {
   "cell_type": "markdown",
   "metadata": {},
   "source": [
    "Важно отметить, что любые операции, связанные с поиском элементов в последовательности (`in`, методы `count` и `index`)  в общем случае выполняются **неэффективно**, потому что требуют прохода по всем ее элементам. Если такие операции планируется использовать часто, лучше применить другой тип коллекции (забегая вперед, скажем, что речь идет о словаре, который рассматривается далее). Последовательности в основном предназначены для хранения элементов в определенном порядке и извлечении их по индексу."
   ]
  },
  {
   "cell_type": "markdown",
   "metadata": {},
   "source": [
    "### Кортеж"
   ]
  },
  {
   "cell_type": "markdown",
   "metadata": {},
   "source": [
    "**Кортеж** (англ. *tuple*) - это последовательность из нуля или более ссылок на объекты произвольных типов. Типом кортежа является класс `tuple`."
   ]
  },
  {
   "cell_type": "markdown",
   "metadata": {},
   "source": [
    "В следующем примере показывается, как создавать кортежи с помощью круглых скобок `()` или путем явного вызова конструктора класса `tuple`:"
   ]
  },
  {
   "cell_type": "code",
   "execution_count": 185,
   "metadata": {},
   "outputs": [
    {
     "name": "stdout",
     "output_type": "stream",
     "text": [
      "<class 'tuple'>\n",
      "1\n",
      "(1, True, 'test')\n",
      "('hello', 'world')\n"
     ]
    }
   ],
   "source": [
    "# создание пустого кортежа\n",
    "t1 = () \n",
    "t2 = tuple()\n",
    "\n",
    "# создание кортежа с несколькими элементами\n",
    "t3 = (1,)              # если элемент один, то запятая в конце обязательна (иначе создастся int)\n",
    "t4 = (1, True, 'test') # кортеж, содержащий 3 элемента\n",
    "t5 = 'hello', 'world'  # скобки можно и не указывать\n",
    "\n",
    "# создании копии кортежа\n",
    "t6 = tuple(t5)\n",
    "\n",
    "# пример использования\n",
    "\n",
    "print(type(t1))\n",
    "print(len(t3))\n",
    "print(t4)\n",
    "print(t6)"
   ]
  },
  {
   "cell_type": "markdown",
   "metadata": {},
   "source": [
    "Так как кортеж, как и любая последовательность, является итерируемым типом, для прохода по его элементам можно использовать цикл `for ... in`:"
   ]
  },
  {
   "cell_type": "code",
   "execution_count": 186,
   "metadata": {},
   "outputs": [
    {
     "name": "stdout",
     "output_type": "stream",
     "text": [
      "15\n"
     ]
    }
   ],
   "source": [
    "t = (1, 2, 3, 4, 5)\n",
    "t_sum = 0\n",
    "\n",
    "for item in t:\n",
    "    t_sum += item\n",
    "\n",
    "print(t_sum)"
   ]
  },
  {
   "cell_type": "markdown",
   "metadata": {},
   "source": [
    "В Python существует встроенная функция `range`, принимающая до трех аргументов (для обозначения начала, конца и шага) и возвращающая итератор на соответствующую последовательность целых чисел. Эта функция зачастую используется в еще одном способе обхода коллекций:"
   ]
  },
  {
   "cell_type": "code",
   "execution_count": 187,
   "metadata": {},
   "outputs": [
    {
     "name": "stdout",
     "output_type": "stream",
     "text": [
      "0 aaa\n",
      "1 bbb\n",
      "2 ccc\n"
     ]
    }
   ],
   "source": [
    "t = ('aaa', 'bbb', 'ccc')\n",
    "\n",
    "# range с одним аргументом arg возвращает итератор на\n",
    "# последовательность 0, 1, ... , arg\n",
    "for idx in range(len(t)): \n",
    "    print(idx, t[idx])"
   ]
  },
  {
   "cell_type": "markdown",
   "metadata": {},
   "source": [
    "На элементы кортежа не накладывается никаких ограничений, т.е. он может хранить ссылки на объекты любого типа, в том числе на другие кортежи или экземпляры собственных классов:"
   ]
  },
  {
   "cell_type": "code",
   "execution_count": 188,
   "metadata": {},
   "outputs": [
    {
     "name": "stdout",
     "output_type": "stream",
     "text": [
      "('hello', CollectionItem(5), ('aaa', 'bbb', 'ccc'), 3.0, 'hello', 1)\n"
     ]
    }
   ],
   "source": [
    "some_tuple = ('aaa', 'bbb', 'ccc')\n",
    "some_item = CollectionItem(5)\n",
    "some_string = 'hello'\n",
    "\n",
    "t = (some_string, some_item, some_tuple, 3.0, 'hello', 1)\n",
    "print(t)"
   ]
  },
  {
   "cell_type": "markdown",
   "metadata": {},
   "source": [
    "Продемонстрируем, как могут применяются основные операции, доступные для всех последовательностей, к кортежам:"
   ]
  },
  {
   "cell_type": "code",
   "execution_count": 189,
   "metadata": {},
   "outputs": [
    {
     "name": "stdout",
     "output_type": "stream",
     "text": [
      "(('aaa', 'bbb', 'ccc'), 3.0)\n",
      "aaa\n",
      "('bbb', 'ccc')\n",
      "CollectionItem(5) is found\n",
      "2\n",
      "5\n"
     ]
    }
   ],
   "source": [
    "print(t[2:4])   # выводим срез [2:4] кортежа\n",
    "print(t[2][0])  # выводим первый элемент вложенного кортежа\n",
    "print(t[2][1:]) # выводим срез [1:] вложенного кортежа\n",
    "\n",
    "if CollectionItem(5) in t:\n",
    "    print('{} is found'.format(CollectionItem(5)))\n",
    "\n",
    "print(t.count('hello'))\n",
    "\n",
    "# метод index генерирует исключение ValueError, если элемент не найден,\n",
    "# поэтому используем try ... except\n",
    "try:\n",
    "    print(t.index(1))\n",
    "except ValueError:\n",
    "    print('item is not found')"
   ]
  },
  {
   "cell_type": "code",
   "execution_count": 190,
   "metadata": {},
   "outputs": [
    {
     "name": "stdout",
     "output_type": "stream",
     "text": [
      "True\n",
      "False\n",
      "False\n"
     ]
    }
   ],
   "source": [
    "t1 = (1, 2, ('a', CollectionItem(3)))\n",
    "t2 = (1, 2, ('a', CollectionItem(3)))\n",
    "t3 = (1, 2, ('a', CollectionItem(333)))\n",
    "\n",
    "# сравнение выполняется поэлементно, вложенные кортежи (и другие\n",
    "# последовательности) обрабатываются рекурсивно\n",
    "\n",
    "print(t1 == t2)\n",
    "print(t1 == t3)\n",
    "print(t1 >= t3)"
   ]
  },
  {
   "cell_type": "markdown",
   "metadata": {},
   "source": [
    "Кортежи, как и строки, относятся к неизменяемым типам данных. Это значит, что нельзя заменить их элементы на другие (будет сгенерировано исключение `TypeError`):"
   ]
  },
  {
   "cell_type": "code",
   "execution_count": 191,
   "metadata": {},
   "outputs": [
    {
     "ename": "TypeError",
     "evalue": "'tuple' object does not support item assignment",
     "output_type": "error",
     "traceback": [
      "\u001b[1;31m---------------------------------------------------------------------------\u001b[0m",
      "\u001b[1;31mTypeError\u001b[0m                                 Traceback (most recent call last)",
      "\u001b[1;32m<ipython-input-191-ca3b752cda23>\u001b[0m in \u001b[0;36m<module>\u001b[1;34m()\u001b[0m\n\u001b[0;32m      1\u001b[0m \u001b[0mt\u001b[0m \u001b[1;33m=\u001b[0m \u001b[1;33m(\u001b[0m\u001b[1;36m1\u001b[0m\u001b[1;33m,\u001b[0m \u001b[1;36m2\u001b[0m\u001b[1;33m,\u001b[0m \u001b[1;36m3\u001b[0m\u001b[1;33m)\u001b[0m\u001b[1;33m\u001b[0m\u001b[0m\n\u001b[1;32m----> 2\u001b[1;33m \u001b[0mt\u001b[0m\u001b[1;33m[\u001b[0m\u001b[1;36m0\u001b[0m\u001b[1;33m]\u001b[0m \u001b[1;33m=\u001b[0m \u001b[1;36m100\u001b[0m\u001b[1;33m\u001b[0m\u001b[0m\n\u001b[0m",
      "\u001b[1;31mTypeError\u001b[0m: 'tuple' object does not support item assignment"
     ]
    }
   ],
   "source": [
    "t = (1, 2, 3)\n",
    "t[0] = 100"
   ]
  },
  {
   "cell_type": "markdown",
   "metadata": {},
   "source": [
    "Для решения этой задачи можно использовать прием, основанный на применении операций взятия среза `[]` и конкатенации `+`:"
   ]
  },
  {
   "cell_type": "code",
   "execution_count": 192,
   "metadata": {},
   "outputs": [
    {
     "name": "stdout",
     "output_type": "stream",
     "text": [
      "('a', 'b', 'c', 'd', 'e')\n"
     ]
    }
   ],
   "source": [
    "t = ('a', 'b', 'd', 'd', 'e')\n",
    "t = t[0:2] + ('c',) + t[3:] # обратите внимание, что символ 'c' нужно\n",
    "                            # добавлять как кортеж, а не как строку!\n",
    "print(t)"
   ]
  },
  {
   "cell_type": "markdown",
   "metadata": {},
   "source": [
    "Этот способ однако очень неэффективен, и им не стоит злоупотреблять. Если нужно часто модифицировать элементы последовательности, вместо кортежа стоит использовать список, который будет рассмотрен далее."
   ]
  },
  {
   "cell_type": "markdown",
   "metadata": {},
   "source": [
    "В заключение скажем, что кортежи в основном используются для хранения небольшого количества связанных значений, а также для распаковки последовательностей. Например, кортеж хорошо подойдет для хранения координат точки на плоскости, при этом на не потребуется создавать специальный класс для этого:"
   ]
  },
  {
   "cell_type": "code",
   "execution_count": 193,
   "metadata": {},
   "outputs": [
    {
     "name": "stdout",
     "output_type": "stream",
     "text": [
      "((1, 1), (3, 3), (5, 1))\n"
     ]
    }
   ],
   "source": [
    "point1 = (1, 1)\n",
    "point2 = (3, 3)\n",
    "point3 = (5, 1)\n",
    "triangle = (point1, point2, point3)\n",
    "\n",
    "print(triangle)"
   ]
  },
  {
   "cell_type": "markdown",
   "metadata": {},
   "source": [
    "Используя такое представление треугольника на плоскости, мы можем так реализовать функцию, выполняющую его перемещение вдоль координатных осей:"
   ]
  },
  {
   "cell_type": "code",
   "execution_count": 194,
   "metadata": {},
   "outputs": [
    {
     "name": "stdout",
     "output_type": "stream",
     "text": [
      "((0, 0), (2, 2), (4, 0))\n"
     ]
    }
   ],
   "source": [
    "def move_triangle(triangle, shift_x, shift_y):\n",
    "    new_triangle = ()\n",
    "    \n",
    "    for x, y in triangle: # распаковываем координаты каждой точки треугольника в переменные x и y\n",
    "        new_point = (x + shift_x, y + shift_y)\n",
    "        new_triangle += (new_point,) # запятая в конце обязательна, потому что без нее в \n",
    "                                     # кортеж будет добавлено два значения, а не вложенный кортеж\n",
    "    return new_triangle\n",
    "\n",
    "\n",
    "# пример использования\n",
    "\n",
    "print(move_triangle(triangle, -1, -1))"
   ]
  },
  {
   "cell_type": "markdown",
   "metadata": {},
   "source": [
    "### Именованный кортеж"
   ]
  },
  {
   "cell_type": "markdown",
   "metadata": {},
   "source": [
    "**Именованный кортеж** - это кортеж, к элементам которого можно обращаться не только по индексу, но и по некоторому имени. В остальном именнованный кортеж идентичен обычному и имеет те же ограничения: он является неизменяемым типом и плохо подходит для операция поиска элемента."
   ]
  },
  {
   "cell_type": "markdown",
   "metadata": {},
   "source": [
    "Лучше всего именованные кортежи подходят для представления данных, состоящих из нескольких значений. Они лучше обычных кортежей справляются с этой задачей, потому что позволяют дать осмысленное имя каждому значению."
   ]
  },
  {
   "cell_type": "markdown",
   "metadata": {},
   "source": [
    "Чтобы создать именованный кортеж, потребуется подключить модуль `collections` и использовать функцию `namedtuple`. С помощью нее мы можем создать класс для наших именованных кортежей, в котором будут определены атрибуты, которые мы укажем при вызове функции:"
   ]
  },
  {
   "cell_type": "code",
   "execution_count": 195,
   "metadata": {},
   "outputs": [],
   "source": [
    "from collections import namedtuple\n",
    "Address = namedtuple('Address', 'city street number apartment zip')"
   ]
  },
  {
   "cell_type": "markdown",
   "metadata": {},
   "source": [
    "В примере выше, с помощью функции `namedtuple` мы создаем класс `Address`, имеющий атрибуты `city`, `street`, `number`, `apartment` и `zip`. Этот класс мы сохраняем в переменную, чтобы потом можно было создавать его объекты, которые и будут нашими именованными кортежами. Делается это так:"
   ]
  },
  {
   "cell_type": "code",
   "execution_count": 196,
   "metadata": {},
   "outputs": [
    {
     "name": "stdout",
     "output_type": "stream",
     "text": [
      "Lenina 36\n",
      "Lenina 36\n"
     ]
    }
   ],
   "source": [
    "a = Address('Tomsk', 'Lenina', 36, 1, '634050')\n",
    "print(a.street, a.number) # обращаемся к элементам по имени\n",
    "print(a[1], a[2])         # обращаемся к элементам по индексу"
   ]
  },
  {
   "cell_type": "markdown",
   "metadata": {},
   "source": [
    "На этом мы закончим рассмотрение именованных кортежей, потому что остальные операции выполняются для них так же, как и для обычных. Предлагаем вам самостоятельно в этом убедиться."
   ]
  },
  {
   "cell_type": "markdown",
   "metadata": {},
   "source": [
    "### Список"
   ]
  },
  {
   "cell_type": "markdown",
   "metadata": {},
   "source": [
    "**Список** (англ. *list*), так же, как и кортеж, представляет собой последовательность из нуля или более ссылок на объекты произвольных типов. Ключевое различие между ними заключается в том, что список является изменяемым типом данных, в отличие от кортежа, а это значит, что его значения его элементов можно модифицировать. Типом списка является `list`. "
   ]
  },
  {
   "cell_type": "markdown",
   "metadata": {},
   "source": [
    "Список можно создавать либо с помощью квадратных скобок `[]`, либо путем явного вызова конструктора `list`. Все операции, которые можно выполнять с кортежом, можно выполнять и со списком, поэтому мы не будем подробно рассматривать их здесь."
   ]
  },
  {
   "cell_type": "code",
   "execution_count": 173,
   "metadata": {},
   "outputs": [
    {
     "name": "stdout",
     "output_type": "stream",
     "text": [
      "<class 'list'>\n",
      "[0.5, CollectionItem(13), ('hello', 'world')]\n",
      "CollectionItem(13) is found\n",
      "13\n",
      "h\n",
      "[('hello', 'world'), CollectionItem(13), 0.5]\n",
      "[1, 2, 3, 1, 2, 3]\n",
      "12\n"
     ]
    }
   ],
   "source": [
    "# создаем пустой список\n",
    "l1 = []\n",
    "l2 = list()\n",
    "\n",
    "# создаем список из нескольких элементов\n",
    "l3 = [1]\n",
    "l4 = [0.5, CollectionItem(13), ('hello', 'world')]\n",
    "\n",
    "# создаем копию списка\n",
    "l5 = list(l4)\n",
    "\n",
    "# пример использования\n",
    "\n",
    "print(type(l5))\n",
    "print(l5)\n",
    "\n",
    "     # поиск элемента\n",
    "\n",
    "if CollectionItem(13) in l5:\n",
    "    print(CollectionItem(13), 'is found')\n",
    "\n",
    "    # обращение к элементу или срезу\n",
    "\n",
    "print(l5[1].value)\n",
    "print(l5[2][0][0])\n",
    "print(l5[::-1]) # получаем элементы в обратном порядке\n",
    "\n",
    "    # конкатенация и дублирование\n",
    "\n",
    "l3 += [2, 3] # добавляем к списку еще два элемента\n",
    "l3 *= 2      # дублируем список\n",
    "print(l3)\n",
    "\n",
    "    # обход в цикле\n",
    "\n",
    "result = 0\n",
    "for item in l3:\n",
    "    result += item\n",
    "\n",
    "print(result)"
   ]
  },
  {
   "cell_type": "markdown",
   "metadata": {},
   "source": [
    "Как уже было упомянуто, главной особенностью списка является то, что его элементы можно изменять:"
   ]
  },
  {
   "cell_type": "code",
   "execution_count": 180,
   "metadata": {},
   "outputs": [
    {
     "name": "stdout",
     "output_type": "stream",
     "text": [
      "[2, 4, 6]\n"
     ]
    }
   ],
   "source": [
    "l = [1, 2, 3]\n",
    "\n",
    "for idx in range(len(l)):\n",
    "    l[idx] *= 2 # удваиваем элементы\n",
    "\n",
    "print(l)"
   ]
  },
  {
   "cell_type": "markdown",
   "metadata": {},
   "source": [
    "С помощью присваивания итерируемых объектов можно изменять целые срезы в списке, причем срез и итерируемый объект не обязаны иметь одинаковое количество элементов:"
   ]
  },
  {
   "cell_type": "code",
   "execution_count": 210,
   "metadata": {},
   "outputs": [
    {
     "name": "stdout",
     "output_type": "stream",
     "text": [
      "[1, 2, 3, 4, 5]\n"
     ]
    }
   ],
   "source": [
    "l = [1, 0, 0, 5]\n",
    "l[1:3] = [2, 3, 4] # размер среза - 2; размер итерируемого объекта - 3\n",
    "print(l)"
   ]
  },
  {
   "cell_type": "markdown",
   "metadata": {},
   "source": [
    "Наконец, элементы и целые срезы можно удалять из списка с помощью операции `del`:"
   ]
  },
  {
   "cell_type": "code",
   "execution_count": 213,
   "metadata": {},
   "outputs": [
    {
     "name": "stdout",
     "output_type": "stream",
     "text": [
      "[1, 2, 3, 4, 5, 6, 7, 8, 9]\n",
      "[1, 3, 5, 7, 9]\n",
      "[5, 7, 9]\n"
     ]
    }
   ],
   "source": [
    "l = [0, 1, 2, 3, 4, 5, 6, 7, 8, 9]\n",
    "\n",
    "del l[0]    # удаляем первый элемент (0)\n",
    "print(l)\n",
    "\n",
    "del l[1::2] # удаляем элементы на нечетных позициях (2, 4, 6, 8)\n",
    "print(l)\n",
    "\n",
    "l[0:2] = [] # еще один способ удалить элементы (удаляются 1 и 3)\n",
    "print(l)"
   ]
  },
  {
   "cell_type": "markdown",
   "metadata": {},
   "source": [
    "Класс `list` дополнительно представляет еще несколько методов, которые могут использоваться для списков. Мы перечислим лишь наиболее полезные из них:"
   ]
  },
  {
   "cell_type": "markdown",
   "metadata": {},
   "source": [
    "| <p align=\"left\">Метод</p> | Описание |\n",
    "|---------------------------|----------|\n",
    "| <p align=\"left\"><samp>l.append(item)</samp></p>                                                                               | Вставляет элемент <samp>item</samp> в конец списка                                                                           |\n",
    "| <p align=\"left\"><samp>l.insert(idx, item)</samp></p>                                                                            | Вставляет элемент <samp>item</samp> в позицию <samp>idx</samp> в списке (медленнее, чем <samp>append</samp>)                 |\n",
    "| <p align=\"left\"><samp>l.pop()</samp></p>                                                                                       | Удаляет из списка последний элемент и возвращает его в качестве результата                                                   |\n",
    "| <p align=\"left\"><samp>l.remove(item)</samp></p>                                                                               | Удаляет первый слева элемент из списка, равный <samp>item</samp>                                                             |\n",
    "| <p align=\"left\"><samp>l.clear()</samp></p>                                                                                    | Очищает список, удаляя все элементы из него                                                                                  |\n",
    "| <p align=\"left\"><samp>l.reverse()</samp></p>                                                                                  | Переставляет элементы списка в обратном порядке                                                                              |\n",
    "| <p align=\"left\"><samp>l.sort(...)</samp></p>                                                                                   | Сортирует список                                                                                                             |"
   ]
  },
  {
   "cell_type": "code",
   "execution_count": 225,
   "metadata": {},
   "outputs": [
    {
     "name": "stdout",
     "output_type": "stream",
     "text": [
      "['per', 'aspera', 'astra', '5']\n",
      "['per', 'aspera', 'ad', 'astra', '5']\n",
      "['5', 'astra', 'ad', 'aspera', 'per']\n",
      "['5', 'ad', 'aspera', 'astra', 'per']\n"
     ]
    }
   ],
   "source": [
    "l = ['per', 'aspera', 'astra']\n",
    "\n",
    "l.insert(2, 'ad')\n",
    "print(l)\n",
    "\n",
    "l.reverse()\n",
    "print(l)\n",
    "\n",
    "l.sort()\n",
    "print(l)"
   ]
  },
  {
   "cell_type": "markdown",
   "metadata": {},
   "source": [
    "### Строка"
   ]
  },
  {
   "cell_type": "markdown",
   "metadata": {},
   "source": [
    "Некоторые операции со строками, представляемыми типом `str`, мы уже рассматривали в [лекции 5](#05_Operations.ipynb), поэтому будет нелишним освежить их в памяти перед тем, как продолжать изучение материала данного раздела."
   ]
  },
  {
   "cell_type": "markdown",
   "metadata": {},
   "source": [
    "Операция `in`, а также методы `count` и `index`, доступные всем типам последовательностей, для строк могут работать не только с отдельными символами, но и с целыми подстроками:"
   ]
  },
  {
   "cell_type": "code",
   "execution_count": 232,
   "metadata": {},
   "outputs": [
    {
     "name": "stdout",
     "output_type": "stream",
     "text": [
      "True\n",
      "3\n",
      "2\n"
     ]
    }
   ],
   "source": [
    "s = 'abcdefabc'\n",
    "\n",
    "print('def' in s)\n",
    "print(s.index('def'))\n",
    "print(s.count('abc'))"
   ]
  },
  {
   "cell_type": "markdown",
   "metadata": {},
   "source": [
    "Поскольку тип `str` является классом, он предоставляет различные полезные методы. Мы перечислим лишь наиболее часто используемые:"
   ]
  },
  {
   "cell_type": "markdown",
   "metadata": {},
   "source": [
    "| <p align=\"left\">Метод</p> | Описание |\n",
    "|---------------------------|----------|\n",
    "| <p align=\"left\"><samp>s.format(...)</samp></p>                                                                                | Возвращает копию строки, отформатированную в соответствии с переданными аргументами                                          |\n",
    "| <p align=\"left\"><samp>s.isalnum()</samp></p>                                                                                  | Возвращает <samp>True</samp>, если строка не пустая и содержит только алфавитно-цифровые символы                             |\n",
    "| <p align=\"left\"><samp>s.isalpha()</samp></p>                                                                                  | Возвращает <samp>True</samp>, если строка не пустая и содержит только алфавитные символы                                     |\n",
    "| <p align=\"left\"><samp>s.isdigit()</samp></p>                                                                                  | Возвращает <samp>True</samp>, если строка не пустая и содержит только цифровые символы                                       |\n",
    "| <p align=\"left\"><samp>s.isspace()</samp></p>                                                                                  | Возвращает <samp>True</samp>, если строка не пустая и содержит только пробельные символы                                     |\n",
    "| <p align=\"left\"><samp>s.lower()</samp></p>                                                                                    | Возвращает копию строки, в которой все символы приведены к нижнему регистру                                                  |\n",
    "| <p align=\"left\"><samp>s.upper()</samp></p>                                                                                    | Возвращает копию строки, в которой все символы приведены к верхнему регистру                                                 |\n",
    "| <p align=\"left\"><samp>s.join(seq)</samp></p>                                                                                  | Объединяет все элементы последовательности <samp>seq</samp>, вставляя между ними строку <samp>s</samp>                       |\n",
    "| <p align=\"left\"><samp>s.split(<i>substr</i>, <i>n</i>)</samp></p>                                                             | Возвращает список строк, выполняя разбиение исходной строки по подстроке <samp>substr</samp> не более <samp>n</samp> раз     |"
   ]
  },
  {
   "cell_type": "markdown",
   "metadata": {},
   "source": [
    "### Распаковка последовательностей"
   ]
  },
  {
   "cell_type": "markdown",
   "metadata": {},
   "source": [
    "Когда кортеж состоит из переменных, его можно указывать в левой части операции `=`, при этом справа должна стоять последовательность (например, кортеж). В этом случае интерпретатор выполняет **распаковку** - присваивает переменным из левого кортежа соответствующее значение из правой последовательности:"
   ]
  },
  {
   "cell_type": "code",
   "execution_count": 109,
   "metadata": {},
   "outputs": [
    {
     "name": "stdout",
     "output_type": "stream",
     "text": [
      "1\n",
      "0.5\n",
      "True\n"
     ]
    }
   ],
   "source": [
    "(a, b, c) = (1, 0.5, True)\n",
    "print(a)\n",
    "print(b)\n",
    "print(c)"
   ]
  },
  {
   "cell_type": "markdown",
   "metadata": {},
   "source": [
    "Зная это, можно хитрым способом обменивать значения переменных:"
   ]
  },
  {
   "cell_type": "code",
   "execution_count": 110,
   "metadata": {},
   "outputs": [
    {
     "name": "stdout",
     "output_type": "stream",
     "text": [
      "1\n",
      "0\n"
     ]
    }
   ],
   "source": [
    "a = 0\n",
    "b = 1\n",
    "a, b = b, a # напомним, что скобки не обязательно указывать для создания кортежей\n",
    "\n",
    "print(a)\n",
    "print(b)"
   ]
  },
  {
   "cell_type": "markdown",
   "metadata": {},
   "source": [
    "### Общие функции"
   ]
  },
  {
   "cell_type": "markdown",
   "metadata": {},
   "source": [
    "## Вопросы для самоконтроля"
   ]
  },
  {
   "cell_type": "markdown",
   "metadata": {},
   "source": [
    "1. Что такое коллекция? Что такое итерируемый тип? Как интерпретатор выполняет цикл `for ... in`?\n",
    "2. Что такое последовательность? Когда их стоит использовать, а когда нет? Какие типичные операции они предоставляют?\n",
    "3. Что такое распаковка последовательностей?\n",
    "3. Для каких целей стоит использовать кортеж?"
   ]
  },
  {
   "cell_type": "markdown",
   "metadata": {},
   "source": [
    "## Задание"
   ]
  },
  {
   "cell_type": "markdown",
   "metadata": {},
   "source": [
    "1. Пусть `l` - это список, состоящий из последовательных целых чисел от 0 до 20. Объясните, ч"
   ]
  },
  {
   "cell_type": "code",
   "execution_count": 100,
   "metadata": {},
   "outputs": [
    {
     "name": "stdout",
     "output_type": "stream",
     "text": [
      "Wall time: 3.44 s\n"
     ]
    }
   ],
   "source": [
    "%%time\n",
    "l = list()\n",
    "for i in range(10000000):\n",
    "    l.append(i)"
   ]
  },
  {
   "cell_type": "code",
   "execution_count": 80,
   "metadata": {},
   "outputs": [
    {
     "name": "stdout",
     "output_type": "stream",
     "text": [
      "Wall time: 3.52 s\n"
     ]
    }
   ],
   "source": [
    "%%time\n",
    "d = dict()\n",
    "for i in range(10000000):\n",
    "    d[i] = i"
   ]
  },
  {
   "cell_type": "code",
   "execution_count": 81,
   "metadata": {},
   "outputs": [
    {
     "name": "stdout",
     "output_type": "stream",
     "text": [
      "49999995000000\n",
      "Wall time: 2 s\n"
     ]
    }
   ],
   "source": [
    "%%time\n",
    "result = 0\n",
    "for i in l:\n",
    "    result += i\n",
    "print(result)"
   ]
  },
  {
   "cell_type": "code",
   "execution_count": 82,
   "metadata": {},
   "outputs": [
    {
     "name": "stdout",
     "output_type": "stream",
     "text": [
      "49999995000000\n",
      "Wall time: 2.77 s\n"
     ]
    }
   ],
   "source": [
    "%%time\n",
    "result = 0\n",
    "for key, value in d.items():\n",
    "    result += value\n",
    "print(result)"
   ]
  },
  {
   "cell_type": "code",
   "execution_count": 102,
   "metadata": {},
   "outputs": [
    {
     "name": "stdout",
     "output_type": "stream",
     "text": [
      "Wall time: 135 ms\n"
     ]
    }
   ],
   "source": [
    "%%time\n",
    "find = 5000000\n",
    "l.index(find)\n",
    "#if find in l:\n",
    "#    print('ok')"
   ]
  },
  {
   "cell_type": "code",
   "execution_count": 96,
   "metadata": {},
   "outputs": [
    {
     "ename": "AttributeError",
     "evalue": "'dict' object has no attribute 'index'",
     "output_type": "error",
     "traceback": [
      "\u001b[1;31m---------------------------------------------------------------------------\u001b[0m",
      "\u001b[1;31mAttributeError\u001b[0m                            Traceback (most recent call last)",
      "\u001b[1;32m<timed exec>\u001b[0m in \u001b[0;36m<module>\u001b[1;34m()\u001b[0m\n",
      "\u001b[1;31mAttributeError\u001b[0m: 'dict' object has no attribute 'index'"
     ]
    }
   ],
   "source": [
    "%%time\n",
    "find = 5000000000\n",
    "d.index(find)"
   ]
  },
  {
   "cell_type": "markdown",
   "metadata": {},
   "source": [
    "- - -\n",
    "[Предыдущая: Классы и исключения](08_Classes_And_Exceptions.ipynb) |\n",
    "[Содержание](00_Overview.ipynb#Содержание) |\n",
    "[Следующая: Коллекции](09_Collections.ipynb)"
   ]
  }
 ],
 "metadata": {
  "kernelspec": {
   "display_name": "Python 3",
   "language": "python",
   "name": "python3"
  },
  "language_info": {
   "codemirror_mode": {
    "name": "ipython",
    "version": 3
   },
   "file_extension": ".py",
   "mimetype": "text/x-python",
   "name": "python",
   "nbconvert_exporter": "python",
   "pygments_lexer": "ipython3",
   "version": "3.6.4"
  }
 },
 "nbformat": 4,
 "nbformat_minor": 2
}
