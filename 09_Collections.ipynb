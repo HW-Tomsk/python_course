{
 "cells": [
  {
   "cell_type": "markdown",
   "metadata": {},
   "source": [
    "# Коллекции"
   ]
  },
  {
   "cell_type": "markdown",
   "metadata": {},
   "source": [
    "В этой лекции мы познакомимся с **коллекциями** (также называемыми **контейнерами**) - специальными классами, предназначенными для хранения множества объектов и предоставляющими доступ к ним. В Python существует несколько разновидностей коллекций - часть из них относится к встроенным типам данных, другие реализованы в отдельных модулях. Это многообразие связано с тем, что невозможно создать один тип, оптимально подходящий для всех возможных классов задач. Поэтому в данной лекции мы особо обращаем внимание читателя на то, когда применять тот или иной тип коллекции."
   ]
  },
  {
   "cell_type": "markdown",
   "metadata": {},
   "source": [
    "Все коллекции относятся к итерируемым типам данных, то есть предоставляют доступ к отдельным элементам в некотором порядке. Это означает, что коллекции могут использоваться в цикле `for ... in` для прохода (итерации) по их элементам. Еще одной функцией, общей для всех коллекций, является `len`, которая возвращает количество элементов."
   ]
  },
  {
   "cell_type": "markdown",
   "metadata": {},
   "source": [
    "Все разновидности коллекций объединены в иерархию наследования. Следствием этого является тот факт, что один и тот же код зачастую способен работать с разными типами коллекций, ведь все они реализуют общие интерфейсы, наследуемые от базовых классов. Помимо этого, каждый отдельно взятый тип коллекции может добавлять специфичные для себя методы."
   ]
  },
  {
   "cell_type": "markdown",
   "metadata": {},
   "source": [
    "## Содержание лекции"
   ]
  },
  {
   "cell_type": "markdown",
   "metadata": {},
   "source": [
    "* [Последовательности](#Последовательности)\n",
    "  * [Кортеж](#Кортеж)\n",
    "  * [Именованный кортеж](#Именованный-кортеж)\n",
    "  * [Список](#Список)\n",
    "  * [Строкa](#Строкa)\n",
    "* [Вопросы для самоконтроля](#Вопросы-для-самоконтроля)\n",
    "* [Задание](#Задание)"
   ]
  },
  {
   "cell_type": "markdown",
   "metadata": {},
   "source": [
    "## Последовательности"
   ]
  },
  {
   "cell_type": "markdown",
   "metadata": {},
   "source": [
    "**Последовательностью** (англ. *sequence*) в Python называют коллекцию, представляющую собой набор пронумерованных элементов. Номер элемента определяет его позицию в последовательности и по другому еще называется **индексом**. Нумерация начинается с нуля, то есть в последовательности размера $N$ содержатся элементы с индексами $0$, $1$, ... ,  $N-1$."
   ]
  },
  {
   "cell_type": "markdown",
   "metadata": {},
   "source": [
    "Один из типов коллекций, относящийся к последовательностям, нам уже известен - это `str` (элементами, которые он хранит, являются символы). Последовательности поддерживают операции конкатенации `+` и дублирования `*`, про которые мы рассказывали в контексте типа `str` [здесь](05_Operations.ipynb#Строковые-операции). Еще для них можно выполнять операцию взятия среза `[]`, рассмотренную там же, и операцию проверки на вхождение `in`, которая определяет, содержится ли определенный элемент в последовательности."
   ]
  },
  {
   "cell_type": "markdown",
   "metadata": {},
   "source": [
    "Кроме уже перечисленных операций, стоит упомянуть о двух методах, также реализованных всеми последовательностями (необязательные параметры методов здесь и далее выделяются курсивом):"
   ]
  },
  {
   "cell_type": "markdown",
   "metadata": {},
   "source": [
    "| <p align=\"left\">Метод</p> | Описание |\n",
    "|---------------------------|----------|\n",
    "| <p align=\"left\"><samp>seq.count(elem)</samp></p>                                                                              | Возвращает количество элементов, равных elem, в последовательности                                                          |\n",
    "| <p align=\"left\"><samp>index(elem, *start*=0, *end*=len(seq))</samp></p>                                                       | Возвращает индекс первого элемента, равного elem, из среза \\[start, end)                                                    |"
   ]
  },
  {
   "cell_type": "markdown",
   "metadata": {},
   "source": [
    "Важно отметить, что любые операции, связанные с поиском элементов в последовательности (`in`, методы `count` и `index`)  в общем случае выполняются **неэффективно**, потому что требуют прохода по всем ее элементам. Если такие операции планируется использовать часто, лучше применить другой тип коллекции (забегая вперед, скажем, что речь идет о словаре, который рассматривается далее). Последовательности в основном предназначены для хранения элементов в определенном порядке и извлечении их по индексу."
   ]
  },
  {
   "cell_type": "markdown",
   "metadata": {},
   "source": [
    "### Кортеж"
   ]
  },
  {
   "cell_type": "markdown",
   "metadata": {},
   "source": [
    "### Именованный кортеж"
   ]
  },
  {
   "cell_type": "markdown",
   "metadata": {},
   "source": [
    "### Список"
   ]
  },
  {
   "cell_type": "markdown",
   "metadata": {},
   "source": [
    "### Строка"
   ]
  },
  {
   "cell_type": "markdown",
   "metadata": {},
   "source": [
    "Некоторые операции со строками, представляемыми типом `str`, мы уже рассматривали в [лекции 5](#05_Operations.ipynb), поэтому будет нелишним освежить их в памяти перед тем, как продолжать изучение материала данного раздела."
   ]
  },
  {
   "cell_type": "markdown",
   "metadata": {},
   "source": [
    "Операция `in` для строк позволяет искать в ней не только отдельные символы, но и целые подстроки, например:"
   ]
  },
  {
   "cell_type": "code",
   "execution_count": 34,
   "metadata": {},
   "outputs": [
    {
     "name": "stdout",
     "output_type": "stream",
     "text": [
      "'a' is found\n",
      "'cd' is found\n",
      "'abcdef' is found\n"
     ]
    }
   ],
   "source": [
    "s = 'abcdef'\n",
    "\n",
    "if 'a' in s:\n",
    "    print('\\'a\\' is found')\n",
    "if 'cd' in s:\n",
    "    print('\\'cd\\' is found')\n",
    "if 'abcdef' in s:\n",
    "    print('\\'abcdef\\' is found')\n",
    "if 'dc' in s:\n",
    "    print('\\'dc\\' is found')"
   ]
  },
  {
   "cell_type": "code",
   "execution_count": 50,
   "metadata": {},
   "outputs": [
    {
     "data": {
      "text/plain": [
       "2"
      ]
     },
     "execution_count": 50,
     "metadata": {},
     "output_type": "execute_result"
    }
   ],
   "source": [
    "s = 'asgsfhgsfasaaa'\n",
    "s.count('as')"
   ]
  },
  {
   "cell_type": "markdown",
   "metadata": {},
   "source": [
    "Поскольку тип `str` является классом, он предоставляет различные полезные методы. Мы перечислим лишь наиболее часто используемые:"
   ]
  },
  {
   "cell_type": "markdown",
   "metadata": {},
   "source": [
    "|<p align=\"left\">Название</p>               | Синтаксис                             | Описание                               |\n",
    "|-------------------------------------------|---------------------------------------|----------------------------------------|\n",
    "|<p align=\"left\">count</p>               |<p align=\"left\"><samp>x + y</samp></p> |Складывает число x и число y            |\n",
    "|<p align=\"left\">Вычитание</p>              |<p align=\"left\"><samp>x - y</samp></p> |Вычитает из числа x число y             |\n",
    "|<p align=\"left\">Умножение</p>              |<p align=\"left\"><samp>x * y</samp></p> |Умножает число x на число y             |\n",
    "|<p align=\"left\">Деление</p>                |<p align=\"left\"><samp>x / y</samp></p> |Делит число x на число y                |\n",
    "|<p align=\"left\">Целочисленное деление</p>  |<p align=\"left\"><samp>x // y</samp></p>|Делит число x на число y, отбрасывая дробную часть                               |\n",
    "|<p align=\"left\">Получение остатка (mod)</p>|<p align=\"left\"><samp>x % y</samp></p> |Возвращает остаток от деления числа x на число y                                     |\n",
    "|<p align=\"left\">Возведение в степень</p>   |<p align=\"left\"><samp>x ** y</samp></p>|Возводит число x в степень y            |\n",
    "|<p align=\"left\">Минус</p>                  |<p align=\"left\"><samp>-x</samp></p>    |Изменяет знак числа x                   |"
   ]
  },
  {
   "cell_type": "markdown",
   "metadata": {},
   "source": [
    "## Вопросы для самоконтроля"
   ]
  },
  {
   "cell_type": "markdown",
   "metadata": {},
   "source": [
    "1. Что такое коллекция? Что такое итерируемый тип?\n",
    "2. Какие типичные операции предоставляют последовательности? Когда их стоит использовать, а когда нет?"
   ]
  },
  {
   "cell_type": "markdown",
   "metadata": {},
   "source": [
    "## Задание"
   ]
  },
  {
   "cell_type": "code",
   "execution_count": 100,
   "metadata": {},
   "outputs": [
    {
     "name": "stdout",
     "output_type": "stream",
     "text": [
      "Wall time: 3.44 s\n"
     ]
    }
   ],
   "source": [
    "%%time\n",
    "l = list()\n",
    "for i in range(10000000):\n",
    "    l.append(i)"
   ]
  },
  {
   "cell_type": "code",
   "execution_count": 80,
   "metadata": {},
   "outputs": [
    {
     "name": "stdout",
     "output_type": "stream",
     "text": [
      "Wall time: 3.52 s\n"
     ]
    }
   ],
   "source": [
    "%%time\n",
    "d = dict()\n",
    "for i in range(10000000):\n",
    "    d[i] = i"
   ]
  },
  {
   "cell_type": "code",
   "execution_count": 81,
   "metadata": {},
   "outputs": [
    {
     "name": "stdout",
     "output_type": "stream",
     "text": [
      "49999995000000\n",
      "Wall time: 2 s\n"
     ]
    }
   ],
   "source": [
    "%%time\n",
    "result = 0\n",
    "for i in l:\n",
    "    result += i\n",
    "print(result)"
   ]
  },
  {
   "cell_type": "code",
   "execution_count": 82,
   "metadata": {},
   "outputs": [
    {
     "name": "stdout",
     "output_type": "stream",
     "text": [
      "49999995000000\n",
      "Wall time: 2.77 s\n"
     ]
    }
   ],
   "source": [
    "%%time\n",
    "result = 0\n",
    "for key, value in d.items():\n",
    "    result += value\n",
    "print(result)"
   ]
  },
  {
   "cell_type": "code",
   "execution_count": 102,
   "metadata": {},
   "outputs": [
    {
     "name": "stdout",
     "output_type": "stream",
     "text": [
      "Wall time: 135 ms\n"
     ]
    }
   ],
   "source": [
    "%%time\n",
    "find = 5000000\n",
    "l.index(find)\n",
    "#if find in l:\n",
    "#    print('ok')"
   ]
  },
  {
   "cell_type": "code",
   "execution_count": 96,
   "metadata": {},
   "outputs": [
    {
     "ename": "AttributeError",
     "evalue": "'dict' object has no attribute 'index'",
     "output_type": "error",
     "traceback": [
      "\u001b[1;31m---------------------------------------------------------------------------\u001b[0m",
      "\u001b[1;31mAttributeError\u001b[0m                            Traceback (most recent call last)",
      "\u001b[1;32m<timed exec>\u001b[0m in \u001b[0;36m<module>\u001b[1;34m()\u001b[0m\n",
      "\u001b[1;31mAttributeError\u001b[0m: 'dict' object has no attribute 'index'"
     ]
    }
   ],
   "source": [
    "%%time\n",
    "find = 5000000000\n",
    "d.index(find)"
   ]
  },
  {
   "cell_type": "markdown",
   "metadata": {},
   "source": [
    "- - -\n",
    "[Предыдущая: Классы и исключения](08_Classes_And_Exceptions.ipynb) |\n",
    "[Содержание](00_Overview.ipynb#Содержание) |\n",
    "[Следующая: Коллекции](09_Collections.ipynb)"
   ]
  }
 ],
 "metadata": {
  "kernelspec": {
   "display_name": "Python 3",
   "language": "python",
   "name": "python3"
  },
  "language_info": {
   "codemirror_mode": {
    "name": "ipython",
    "version": 3
   },
   "file_extension": ".py",
   "mimetype": "text/x-python",
   "name": "python",
   "nbconvert_exporter": "python",
   "pygments_lexer": "ipython3",
   "version": "3.6.4"
  }
 },
 "nbformat": 4,
 "nbformat_minor": 2
}
