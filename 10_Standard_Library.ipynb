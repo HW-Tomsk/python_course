{
 "cells": [
  {
   "cell_type": "markdown",
   "metadata": {},
   "source": [
    "# Стандартная библиотека"
   ]
  },
  {
   "cell_type": "markdown",
   "metadata": {},
   "source": [
    "Стандартная библиотека Python представляет собой множество пакетов и модулей, доступных для использования любой программе на языке Python. Эта библиотека является такой же неотъемлимой частью языка Python, как и его интерпретатор, о чем свидетельствует тот факт, что она полностью описана в самом стандарте языка."
   ]
  },
  {
   "cell_type": "markdown",
   "metadata": {},
   "source": [
    "В этой лекции мы рассмотрим несколько важнейших модулей стандартной библиотеки, однако это будет лишь небольшая ее часть. Практически любую задачу на языке Python можно легко решить средствами, предоставляемыми стандартной библиотекой, поэтому когда вам понадобится какая-то функция (или класс), не спешите самостоятельно ее реализовывать - для начала лучше поищите аналог в документации [стандартной библиотеки](https://docs.python.org/3/library/index.html)."
   ]
  },
  {
   "cell_type": "markdown",
   "metadata": {},
   "source": [
    "Стоит также отметить, что в сети можно найти огромное количество других библиотек, не включенных в состав стандартной, которые можно легко добавить к своей конфигурации Python и использовать в программах."
   ]
  },
  {
   "cell_type": "markdown",
   "metadata": {},
   "source": [
    "## Содержание лекции"
   ]
  },
  {
   "cell_type": "markdown",
   "metadata": {},
   "source": [
    "* [Введение](#Введение)\n",
    "* [Модуль builtins](#Модуль-builtins)\n",
    "* [Модуль math](#Модуль-math)\n",
    "* [Модуль datetime](#Модуль-datetime)\n",
    "* [Задание](#Задание)"
   ]
  },
  {
   "cell_type": "markdown",
   "metadata": {},
   "source": [
    "## Введение"
   ]
  },
  {
   "cell_type": "markdown",
   "metadata": {},
   "source": [
    "Перед тем, как начать изучение стандратной библиотеки, хотелось бы рассказать о двух функциях, которые очень помогут в этом деле. С одной мы уже встречались - речь идет о функции `dir`, возвращающей все имена из указанного пространства имен (например, из модуля или класса). Вторая называется `help`, и используется для того, чтобы получить справочную информацию, связанную с некоторым именем."
   ]
  },
  {
   "cell_type": "markdown",
   "metadata": {},
   "source": [
    "Вместе эти функции неплохо заменяют традиционную документацию: достаточно с помощью `dir` узнать, какие функции и классы есть в модуле, а затем с помощью `help` получить информацию о том, как их использовать. Пусть, например, нам нужна функция, которая вычисляет логарифм. Логично предположить, что она может быть в модуле `math` (подробнее о нем чуть ниже). Выяснить это можно с помощью функции `dir`:"
   ]
  },
  {
   "cell_type": "code",
   "execution_count": 1,
   "metadata": {},
   "outputs": [
    {
     "name": "stdout",
     "output_type": "stream",
     "text": [
      "['__doc__', '__loader__', '__name__', '__package__', '__spec__', 'acos', 'acosh', 'asin', 'asinh', 'atan', 'atan2', 'atanh', 'ceil', 'copysign', 'cos', 'cosh', 'degrees', 'e', 'erf', 'erfc', 'exp', 'expm1', 'fabs', 'factorial', 'floor', 'fmod', 'frexp', 'fsum', 'gamma', 'gcd', 'hypot', 'inf', 'isclose', 'isfinite', 'isinf', 'isnan', 'ldexp', 'lgamma', 'log', 'log10', 'log1p', 'log2', 'modf', 'nan', 'pi', 'pow', 'radians', 'sin', 'sinh', 'sqrt', 'tan', 'tanh', 'tau', 'trunc']\n"
     ]
    }
   ],
   "source": [
    "import math\n",
    "print(dir(math))"
   ]
  },
  {
   "cell_type": "markdown",
   "metadata": {},
   "source": [
    "Судя по имени, функция, которая нам нужна - это `log`. Теперь осталось прочитать о том, как ее правильно использовать:"
   ]
  },
  {
   "cell_type": "code",
   "execution_count": 4,
   "metadata": {},
   "outputs": [
    {
     "name": "stdout",
     "output_type": "stream",
     "text": [
      "Help on built-in function log in module math:\n",
      "\n",
      "log(...)\n",
      "    log(x[, base])\n",
      "    \n",
      "    Return the logarithm of x to the given base.\n",
      "    If the base not specified, returns the natural logarithm (base e) of x.\n",
      "\n"
     ]
    }
   ],
   "source": [
    "help(math.log)"
   ]
  },
  {
   "cell_type": "markdown",
   "metadata": {},
   "source": [
    "В этой лекции при описании функций и методов мы используем следующее соглашение:"
   ]
  },
  {
   "cell_type": "markdown",
   "metadata": {},
   "source": [
    "1. Все обязательные параметры функций и методов указываются всегда.\n",
    "2. Необязательные параметры выделяются курсивом и для них указывается значение по умолчанию.\n",
    "3. Некоторые необязательные параметры могут быть опущены, чтобы описание функции оставалось коротким. Об этом сигнализирует последовательность \"...\" в списке параметров. Для получения полной информации обращайтесь к справочному руководству или функции `help`."
   ]
  },
  {
   "cell_type": "markdown",
   "metadata": {},
   "source": [
    "## Модуль builtins"
   ]
  },
  {
   "cell_type": "markdown",
   "metadata": {},
   "source": [
    "Этот модуль предоставляет базовую функциональность всем программам на языке Python. Он отличается от всех остальных тем, что импортируется автоматически самим интерпретатором при старте программы, при этом все имена из него попадают во встроенное пространство имен, а значит к ним можно обращаться без указания имени модуля."
   ]
  },
  {
   "cell_type": "markdown",
   "metadata": {},
   "source": [
    "В следующей таблице собраны функции для различных преобразований значение одного типа к значениям другого:"
   ]
  },
  {
   "cell_type": "markdown",
   "metadata": {},
   "source": [
    "| <div align=\"left\">Функция</div> | Описание |\n",
    "|---------------------------------|----------|\n",
    "| <div align=\"left\"><samp>bool(<i>x</i>)</samp></div>                                                                            | Создает из <samp>x</samp> значение с типом <samp>bool</samp>; если <samp>x</samp> не задан, возвращает <samp>False</samp>    |\n",
    "| <div align=\"left\"><samp>int(<i>x</i>)</samp></div>                                                                            | Создает из числа или строки <samp>x</samp> значение с типом <samp>int</samp>; если <samp>x</samp> не задан, возвращает 0     |\n",
    "| <div align=\"left\"><samp>float(<i>x</i>)</samp></div>                                                                            | Создает из числа или строки <samp>x</samp> значение с типом <samp>float</samp>; если <samp>x</samp> не задан, возвращает 0.0 |\n",
    "| <div align=\"left\"><samp>str(<i>x</i>)</samp></div>                                                                            | Возвращает строковую версию объекта <samp>x</samp>; если <samp>x</samp> не задан, возвращает пустую строку                   |\n",
    "| <div align=\"left\"><samp>bin(x)</samp></div>                                                                                   | Преобразует целое числое <samp>x</samp> в строку, содержащую его двоичное представление                                      |\n",
    "| <div align=\"left\"><samp>oct(x)</samp></div>                                                                                   | Преобразует целое числое <samp>x</samp> в строку, содержащую его восьмеричное представление                                  |\n",
    "| <div align=\"left\"><samp>hex(x)</samp></div>                                                                                   | Преобразует целое числое <samp>x</samp> в строку, содержащую его шестнадцатеричное представление                             |\n",
    "| <div align=\"left\"><samp>chr(x)</samp></div>                                                                                   | Возвращает строку с символом, имеющим позицию <samp>x</samp> в таблице Unicode                                               |\n",
    "| <div align=\"left\"><samp>ord(x)</samp></div>                                                                                   | Возвращает позицию в таблице Unicode для символа <samp>x</samp>                                                              |"
   ]
  },
  {
   "cell_type": "code",
   "execution_count": 17,
   "metadata": {},
   "outputs": [
    {
     "name": "stdout",
     "output_type": "stream",
     "text": [
      "10\n",
      "100\n",
      "0b1010\n",
      "A\n"
     ]
    }
   ],
   "source": [
    "num = 10\n",
    "s = '100'\n",
    "\n",
    "print(str(num))\n",
    "print(int(s))\n",
    "print(bin(num))\n",
    "print(chr(65))"
   ]
  },
  {
   "cell_type": "markdown",
   "metadata": {},
   "source": [
    "В модуле `builtins` существует специальная функция, с помощью которой можно попросить пользователя ввести какие-нибудь данные:"
   ]
  },
  {
   "cell_type": "markdown",
   "metadata": {},
   "source": [
    "| <div align=\"left\">Функция</div> | Описание |\n",
    "|---------------------------------|----------|\n",
    "| <div align=\"left\"><samp>input(<i>prompt=''</i>, ...)</samp></div>                                                             | Возвращает строку c данными, введенными пользователем (если <samp>prompt</samp> не пустой, оторбражает его рядом с полем для ввода)|"
   ]
  },
  {
   "cell_type": "code",
   "execution_count": 1,
   "metadata": {},
   "outputs": [
    {
     "name": "stdout",
     "output_type": "stream",
     "text": [
      "Enter you name: Bob\n",
      "Hello, Bob\n"
     ]
    }
   ],
   "source": [
    "name = input('Enter you name: ')\n",
    "print('Hello, {}'.format(name))"
   ]
  },
  {
   "cell_type": "markdown",
   "metadata": {},
   "source": [
    "Функции для работы с коллекциями мы уже рассматривали, но для полноты перечислим их здесь еще раз:"
   ]
  },
  {
   "cell_type": "markdown",
   "metadata": {},
   "source": [
    "| <div align=\"left\">Функция</div> | Описание |\n",
    "|---------------------------------|----------|\n",
    "| <div align=\"left\"><samp>len(col)</samp></div>                                                                                 | Возвращает количество элементов в коллекции                                                                                  |\n",
    "| <div align=\"left\"><samp>all(col)</samp></div>                                                                                 | Возвращает <samp>True</samp>, если все элементы коллекции в логическом контексте оцениваются как <samp>True</samp>           |\n",
    "| <div align=\"left\"><samp>any(col)</samp></div>                                                                                 | Возвращает <samp>True</samp>, если хотя бы один элемент коллекции в логическом контексте оцениваeтся как <samp>True</samp>   | \n",
    "| <div align=\"left\"><samp>max(col, ...)</samp></div>                                                                            | Возвращает наибольший элемент в коллекции                                                                                    |\n",
    "| <div align=\"left\"><samp>min(col, ...)</samp></div>                                                                            | Возвращает наименьший элемент в коллекции                                                                                    |\n",
    "| <div align=\"left\"><samp>sum(col, <i>start=0</i>)</samp></div>                                                                  | Возвращает сумму элементов коллекции плюс элемент <samp>start</samp>                                                         |\n",
    "| <div align=\"left\"><samp>sorted(col, <i>key</i>=None, <i>reverse=False</i>)</samp></div>                                       | Возвращает список отсортированных в прямом или обратном (<samp>reverse=True</samp>) порядке элементов коллекции              |\n",
    "| <div align=\"left\"><samp>range(<i>start=0</i>, stop, <i>step=1</i>)</samp></div>                                               | Возвращает итератор на последовательность целых числе от <samp>start</samp> до <samp>stop</samp> с шагом <samp>step</samp>   |"
   ]
  },
  {
   "cell_type": "markdown",
   "metadata": {},
   "source": [
    "То же самое касается и функций для работы с иерархией наследования:"
   ]
  },
  {
   "cell_type": "markdown",
   "metadata": {},
   "source": [
    "| <div align=\"left\">Функция</div> | Описание |\n",
    "|---------------------------------|----------|\n",
    "| <div align=\"left\"><samp>isinstance(object, class)</samp></div>                                                                  | Возвращает <samp>True</samp>, если <samp>object</samp> является экземпляром <samp>class</samp>                               |\n",
    "| <div align=\"left\"><samp>issubclass(subclass, class)</samp></div>                                                                | Возвращает <samp>True</samp>, если <samp>subclass</samp> является подклассом <samp>class</samp>                              |\n",
    "| <div align=\"left\"><samp>super(...)</samp></div>                                                                               | Возвращает специальный объект, с помощью которого можно вызывать в наследнике методы базового класса                         |"
   ]
  },
  {
   "cell_type": "markdown",
   "metadata": {},
   "source": [
    "Следующие функции могут использоваться для выполнения кода на языке Python:"
   ]
  },
  {
   "cell_type": "markdown",
   "metadata": {},
   "source": [
    "| <div align=\"left\">Функция</div> | Описание |\n",
    "|---------------------------------|----------|\n",
    "| <div align=\"left\"><samp>eval(expression, ...)</samp></div>                                                                     | Выполняет выражение Python, записанное в строке <samp>expression</samp>                                                      |\n",
    "| <div align=\"left\"><samp>exec(code_block, ...)</samp></div>                                                                    | Выполняет произвольный блок кода Python, записанный в строке <samp>code_block</samp>                                         |"
   ]
  },
  {
   "cell_type": "markdown",
   "metadata": {},
   "source": [
    "Функция `eval` позволяет выполнить простые выражение языка Python, записанные как обычная строка:"
   ]
  },
  {
   "cell_type": "code",
   "execution_count": 23,
   "metadata": {},
   "outputs": [
    {
     "name": "stdout",
     "output_type": "stream",
     "text": [
      "24\n"
     ]
    }
   ],
   "source": [
    "x = 7\n",
    "y = 5\n",
    "eval('print((x + y) * (x - y))')"
   ]
  },
  {
   "cell_type": "markdown",
   "metadata": {},
   "source": [
    "Функция `exec` обладает гораздо большими возможностями. По сути, с ее помощью можно выполнить текст любой корректной программы на языке Python:"
   ]
  },
  {
   "cell_type": "code",
   "execution_count": 27,
   "metadata": {},
   "outputs": [
    {
     "name": "stdout",
     "output_type": "stream",
     "text": [
      "(3.0, 2.0)\n"
     ]
    }
   ],
   "source": [
    "program = '''\n",
    "def get_roots(a, b, c):\n",
    "       d = b**2 - 4*a*c \n",
    "       x1 = (-b + d**0.5) / (2*a)\n",
    "       x2 = (-b - d**0.5) / (2*a)\n",
    "       return x1, x2\n",
    "    \n",
    "print(get_roots(1, -5, 6))\n",
    "'''\n",
    "\n",
    "exec(program)"
   ]
  },
  {
   "cell_type": "markdown",
   "metadata": {},
   "source": [
    "В рассмотренном примере программа, записанная в строке, создает функцию `get_roots` для вычисление корней квадратного уравнения и затем для вызывает ее. В функции `exec` это программа выполняется так, словно была написана в нашем исходном коде обычным образом, а это значит, что теперь в пространстве имен основной программы есть функция `get_roots` и можно писать:"
   ]
  },
  {
   "cell_type": "code",
   "execution_count": 29,
   "metadata": {},
   "outputs": [
    {
     "name": "stdout",
     "output_type": "stream",
     "text": [
      "(5.0, -2.0)\n"
     ]
    }
   ],
   "source": [
    "print(get_roots(1, -3, -10))"
   ]
  },
  {
   "cell_type": "markdown",
   "metadata": {},
   "source": [
    "В заключение расскажем еще о нескольих полезных функциях стандартной библиотеки:о том, как происходит работа с файлами в Python. Для этого в модуле `builtins` есть следующая функция:"
   ]
  },
  {
   "cell_type": "markdown",
   "metadata": {},
   "source": [
    "| <div align=\"left\">Функция</div> | Описание |\n",
    "|---------------------------------|----------|\n",
    "| <div align=\"left\"><samp>open(filename, <i>mode='r'</i>, ...)</samp></div>                                                      | Открывает файл с именем <samp>filename</samp> в режиме <samp>mode</samp> ('r, w, a' - чтение, запись, добавление в конец).       <br/> Возвращает объект, который будет использоваться для работы с файлом | "
   ]
  },
  {
   "cell_type": "markdown",
   "metadata": {},
   "source": [
    "1. В режиме чтения **r** информацию можно только прочитать из файла, записать в него ничего нельзя. Если указанный файл не существует, интерпретатор генерирует исключение `FileNotFoundError`.\n",
    "2. В режиме записи **w** в файл можно только записать данные. Если указанный файл не существует, то он создается. Если же существует, то немедленно полностью очищается\n",
    "3. Режим добавления **a** отличается от режима записи только то, что в случае добавления, файл не очищается при открытии, а все записываемые данные вставляются в его конец."
   ]
  },
  {
   "cell_type": "markdown",
   "metadata": {},
   "source": [
    "В первом примере попробуем открыть файл и вывести информацию из него на экран. Для начала создадим в нашей операционной системе простой текстовый файл *text.txt*, в который поместим несоколько строк."
   ]
  },
  {
   "cell_type": "markdown",
   "metadata": {},
   "source": [
    "Следующим этапом является открытие его в режиме чтения. Чтобы не возникло ошибки `FileNotFoundError`, внимательно вводить путь к файлу `text.txt` (если этот файл лежит в той же папке, что и ваш ноутбук файл, то полный путь в нему писать не нужно)."
   ]
  },
  {
   "cell_type": "code",
   "execution_count": 21,
   "metadata": {},
   "outputs": [
    {
     "name": "stdout",
     "output_type": "stream",
     "text": [
      "<class '_io.TextIOWrapper'>\n"
     ]
    }
   ],
   "source": [
    "file = open('test.txt')\n",
    "print(type(file))"
   ]
  },
  {
   "cell_type": "markdown",
   "metadata": {},
   "source": [
    "Объект, который возвращает функция `open` в нашем случае, имеет тип `TextIOBase` (определен в модуле `io`, который мы не будем рассматривать) и является итерируемым. Это означает, что его можно использовать в цикле `for ... in`, причем итерация будет проходить по строкам файла:"
   ]
  },
  {
   "cell_type": "code",
   "execution_count": 22,
   "metadata": {},
   "outputs": [
    {
     "name": "stdout",
     "output_type": "stream",
     "text": [
      "My uncle — high ideals inspire him;\n",
      "\n",
      "but when past joking he fell sick,\n",
      "\n",
      "he really forced one to admire him —\n",
      "\n",
      "and never played a shrewder trick.\n"
     ]
    }
   ],
   "source": [
    "for line in file:\n",
    "    print(line)"
   ]
  },
  {
   "cell_type": "markdown",
   "metadata": {},
   "source": [
    "После того, как работа с файлом завершена, его нужно закрыть. Строго говоря, вручную это делать не обязательно, потому что перед тем, как быть удаленным сборщиком мусора, объект `file` сам закроет файл. Мы однако рекомендуем явно вызывать метод `close`, потому что сборщик мусора может достаточно долго не удалять объект, следовательно все это время файл будет оставаться открытым, а это потребляет системные ресурсы и мешает использовать файл другим программам:"
   ]
  },
  {
   "cell_type": "code",
   "execution_count": 26,
   "metadata": {},
   "outputs": [],
   "source": [
    "file.close()\n",
    "# после того, как файл закрыт, к нему больше нельзя обращаться\n",
    "# или будет сгенерировано исключение!"
   ]
  },
  {
   "cell_type": "markdown",
   "metadata": {},
   "source": [
    "Записать информацию в файл еще проще:"
   ]
  },
  {
   "cell_type": "code",
   "execution_count": 27,
   "metadata": {},
   "outputs": [],
   "source": [
    "file = open('test2.txt', 'w')      # открываем в режиме записи\n",
    "file.write('this is first line\\n') # '\\n' означает перевод строки\n",
    "file.write('this is second line')\n",
    "file.close()"
   ]
  },
  {
   "cell_type": "markdown",
   "metadata": {},
   "source": [
    "В классе `TextIOBase` существует еще много других методов, которые позволяют решать разный задачи, однако мы предлагаем вам самим познакомиться с ними."
   ]
  },
  {
   "cell_type": "markdown",
   "metadata": {},
   "source": [
    "## Модуль math"
   ]
  },
  {
   "cell_type": "markdown",
   "metadata": {},
   "source": [
    "Этот модуль предоставляет различные математические функции и  константы."
   ]
  },
  {
   "cell_type": "markdown",
   "metadata": {},
   "source": [
    "| <div align=\"left\">Функция</div> | Описание |\n",
    "|---------------------------------|----------|\n",
    "| <div align=\"left\"><samp>ceil(x)</samp></div>                                                                                  | Возвращает наименьшее целое число большее или равное числу <samp>x</samp>                                                    |\n",
    "| <div align=\"left\"><samp>floor(x)</samp></div>                                                                                  | Возвращает наибольшее целое число меньшее или равное числу <samp>x</samp>                                                    |\n",
    "| <div align=\"left\"><samp>gcd(x, y)</samp></div>                                                                                  | Возвращает наибольший общий делитель целых чисел <samp>x</samp> и <samp>y</samp>                                             |\n",
    "| <div align=\"left\"><samp>exp(x)</samp></div>                                                                                   | Возвращает экспоненту в степени <samp>x</samp>                                                                               |\n",
    "| <div align=\"left\"><samp>log(x, <i>base=e</i>)</samp></div>                                                                     | Возвращает логарифм числа <samp>x</samp> по основанию <samp>base</samp>                                                      |\n",
    "| <div align=\"left\"><samp>pow(x, y)</samp></div>                                                                                | Возвращает число <samp>x</samp>, возведенное в степень <samp>y</samp>                                                        |\n",
    "| <div align=\"left\"><samp>sqrt(x)</samp></div>                                                                                   | Возвращает квадратный корень из <samp>x</samp>                                                                               |\n",
    "| <div align=\"left\"><samp>cos(x)</samp></div>                                                                                   | Возвращает косинус для угла в <samp>x</samp> радиан                                                                          |\n",
    "| <div align=\"left\"><samp>sin(x)</samp></div>                                                                                   | Возвращает синус для угла в <samp>x</samp> радиан                                                                            |\n",
    "| <div align=\"left\"><samp>tan(x)</samp></div>                                                                                   | Возвращает тангенс для угла в <samp>x</samp> радиан                                                                          |\n",
    "| <div align=\"left\"><samp>acos(x)</samp></div>                                                                                   | Возвращает арккосинус числа <samp>x</samp> в радианах                                                                        |\n",
    "| <div align=\"left\"><samp>asin(x)</samp></div>                                                                                   | Возвращает арксинус числа <samp>x</samp> в радианах                                                                          |\n",
    "| <div align=\"left\"><samp>atan(x)</samp></div>                                                                                   | Возвращает арктангенс числа <samp>x</samp> в радианах                                                                        |\n",
    "| <div align=\"left\"><samp>degrees(x)</samp></div>                                                                                | Преобразует угол <samp>x</samp> из радиан в градусы                                                                          |\n",
    "| <div align=\"left\"><samp>radians(x)</samp></div>                                                                                | Преобразует угол <samp>x</samp> из градусов в радианы                                                                        |"
   ]
  },
  {
   "cell_type": "markdown",
   "metadata": {},
   "source": [
    "Среди констант, определенных в модуле `math`, конечно есть две самые известные: $\\pi$ (`math.pi`) и $e$ (`math.e`)."
   ]
  },
  {
   "cell_type": "markdown",
   "metadata": {},
   "source": [
    "Рассмотрим небольшой пример использования функций из модуля `math`:"
   ]
  },
  {
   "cell_type": "code",
   "execution_count": 36,
   "metadata": {},
   "outputs": [
    {
     "name": "stdout",
     "output_type": "stream",
     "text": [
      "4 3 4\n",
      "0.7071067811865476\n",
      "4.668783061171329\n",
      "2.0\n"
     ]
    }
   ],
   "source": [
    "import math\n",
    "x = 3.77\n",
    "\n",
    "# исторически сложилось, что функция, которая выполняет обычное округление\n",
    "# в соответствии с правилами арифметики определена в модуле builtins\n",
    "print(math.ceil(x), math.floor(x), round(x))\n",
    "\n",
    "angle = 45 # в градусах\n",
    "print(math.cos(math.radians(45)))\n",
    "\n",
    "print(math.pow(3.5, 1.23))\n",
    "print(math.log(100, 10))"
   ]
  },
  {
   "cell_type": "markdown",
   "metadata": {},
   "source": [
    "## Модуль datetime"
   ]
  },
  {
   "cell_type": "markdown",
   "metadata": {},
   "source": [
    "## Задание"
   ]
  },
  {
   "cell_type": "markdown",
   "metadata": {},
   "source": [
    "- - -\n",
    "[Предыдущая: Коллекции](09_Collections.ipynb) |\n",
    "[Содержание](00_Overview.ipynb#Содержание) |\n",
    "[Следующая: Стандартная библиотека](10_Standard_Library.ipynb)"
   ]
  }
 ],
 "metadata": {
  "kernelspec": {
   "display_name": "Python 3",
   "language": "python",
   "name": "python3"
  },
  "language_info": {
   "codemirror_mode": {
    "name": "ipython",
    "version": 3
   },
   "file_extension": ".py",
   "mimetype": "text/x-python",
   "name": "python",
   "nbconvert_exporter": "python",
   "pygments_lexer": "ipython3",
   "version": "3.6.4"
  }
 },
 "nbformat": 4,
 "nbformat_minor": 2
}
