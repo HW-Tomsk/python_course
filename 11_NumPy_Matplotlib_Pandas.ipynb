{
 "cells": [
  {
   "cell_type": "markdown",
   "metadata": {},
   "source": [
    "# Библиотеки NumPy, Matpotlib, pandas"
   ]
  },
  {
   "cell_type": "markdown",
   "metadata": {},
   "source": [
    "## Содержание лекции"
   ]
  },
  {
   "cell_type": "markdown",
   "metadata": {},
   "source": [
    "* [NumPy](#NumPy)\n",
    "  * [Создание массива](#Создание-массива)\n",
    "  * [Получение среза](#Получение-среза)\n",
    "  * [Изменение формы](#Изменение-формы)\n",
    "  * [Операции и универсальные функции](#Операции-и-универсальные-функции)\n",
    "* [Matplotlib](#Matplotlib)\n",
    "  * [График](#График)\n",
    "  * [Диаграмма разброса](#Диаграмма-разброса)\n",
    "  * [Гистограмма](#Гистограмма)\n",
    "* [pandas](#pandas)"
   ]
  },
  {
   "cell_type": "markdown",
   "metadata": {},
   "source": [
    "## NumPy"
   ]
  },
  {
   "cell_type": "markdown",
   "metadata": {},
   "source": [
    "Библиотека [NumPy](https://docs.scipy.org/doc/numpy/reference/) предоставляет типы и функции для вычислений с многомерными **массивами**. Массивом (англ. *array*) в программировании называется контейнер, хранящий последовательно друг за другом множество элементов. Из тех контейнеров, с которыми мы познакомились с вами в одной из предыдущих лекций, он больше всего похож на список. Основное же отличие заключается в том, что массив может хранить только значения фиксированного типа - того, который был указан при его создании. Благодаря этому ограничению можно эффективнее организовать хранение в памяти элементов массива, и добиться хорошей производительности операций, выполняющихся над всеми элементами."
   ]
  },
  {
   "cell_type": "markdown",
   "metadata": {},
   "source": [
    "Элементами многомерного массива являются другие массивы. Классический пример - матрица, представляющая собой массив строк, каждая из которых является массивом чисел."
   ]
  },
  {
   "cell_type": "markdown",
   "metadata": {},
   "source": [
    "Основным типом данных, предоставляемым библиотекой NumPy, является класс `ndarray`, который описывает многомерный массив. Перечислим наиболее важные атрибуты экземпляров этого класса:"
   ]
  },
  {
   "cell_type": "markdown",
   "metadata": {},
   "source": [
    "1. `ndim` - количество измерений или, как их принято называть, осей. Например, обычная матрица имеет две оси (строки и столбцы). Оси идентифицируются своим порядковым номером, причем как и для индексов последовательностей, нумерация начинается с нуля (у матрицы строки - это нулевая ось, а столбцы - первая).\n",
    "2. `shape` - форма массива. Это кортеж, который для каждой оси содержит число элементов в ней. Например, если у нас есть матрица размерности $N \\times M$, то `shape` будет равно `(N, M)`.\n",
    "3. `size` - общее количество элементов в многомерном массиве. По сути, представляет собой произведение всех элементов `shape`.\n",
    "4. `dtype` - объект, содержащий информацию о типе данных элементов массива."
   ]
  },
  {
   "cell_type": "markdown",
   "metadata": {},
   "source": [
    "В дальнейших примерах нам часто будет требоваться выводить информацию о массиве на экран, поэтому мы определим простую функцию для этого:"
   ]
  },
  {
   "cell_type": "code",
   "execution_count": 1,
   "metadata": {},
   "outputs": [],
   "source": [
    "import numpy as np\n",
    "\n",
    "def print_array(a):\n",
    "    print('ndim={}, shape={}, size={}, dtype={}'.format(a.ndim, a.shape, a.size, a.dtype))\n",
    "    print(a)"
   ]
  },
  {
   "cell_type": "markdown",
   "metadata": {},
   "source": [
    "### Создание массива"
   ]
  },
  {
   "cell_type": "markdown",
   "metadata": {},
   "source": [
    "Существует несколько способов создать массив. Один из них - использовать функцию `array`."
   ]
  },
  {
   "cell_type": "code",
   "execution_count": 2,
   "metadata": {},
   "outputs": [
    {
     "name": "stdout",
     "output_type": "stream",
     "text": [
      "ndim=1, shape=(3,), size=3, dtype=int32\n",
      "[1 2 3]\n"
     ]
    }
   ],
   "source": [
    "# создаем одномерный массив\n",
    "a = np.array([1, 2, 3])\n",
    "print_array(a)"
   ]
  },
  {
   "cell_type": "code",
   "execution_count": 3,
   "metadata": {},
   "outputs": [
    {
     "name": "stdout",
     "output_type": "stream",
     "text": [
      "ndim=2, shape=(2, 4), size=8, dtype=float64\n",
      "[[0.1 0.2 0.3 0.4]\n",
      " [0.5 0.6 0.7 0.8]]\n"
     ]
    }
   ],
   "source": [
    "# создаем двумерный массив (матрицу)\n",
    "a = np.array([[0.1, 0.2, 0.3, 0.4],\n",
    "              [0.5, 0.6, 0.7, 0.8]])\n",
    "print_array(a)"
   ]
  },
  {
   "cell_type": "markdown",
   "metadata": {},
   "source": [
    "Если при создании массива не указывается тип его элементов, то функция `array` в качестве него выбирает такой, чтобы можно было хранить любой элемент из перечисленных в ее вызове:"
   ]
  },
  {
   "cell_type": "code",
   "execution_count": 4,
   "metadata": {},
   "outputs": [
    {
     "name": "stdout",
     "output_type": "stream",
     "text": [
      "ndim=1, shape=(3,), size=3, dtype=int32\n",
      "[1 2 3]\n"
     ]
    }
   ],
   "source": [
    "a = np.array([1, 2, 3])\n",
    "print_array(a)"
   ]
  },
  {
   "cell_type": "code",
   "execution_count": 5,
   "metadata": {},
   "outputs": [
    {
     "name": "stdout",
     "output_type": "stream",
     "text": [
      "ndim=1, shape=(3,), size=3, dtype=float64\n",
      "[1.  2.  3.1]\n"
     ]
    }
   ],
   "source": [
    "a = np.array([1, 2, 3.1])\n",
    "print_array(a)"
   ]
  },
  {
   "cell_type": "code",
   "execution_count": 6,
   "metadata": {},
   "outputs": [
    {
     "name": "stdout",
     "output_type": "stream",
     "text": [
      "ndim=1, shape=(3,), size=3, dtype=complex128\n",
      "[1.+0.j 2.+0.j 3.+0.j]\n"
     ]
    }
   ],
   "source": [
    "# явно указываем тип элементов\n",
    "a = np.array([1, 2, 3], dtype=complex)\n",
    "print_array(a)"
   ]
  },
  {
   "cell_type": "markdown",
   "metadata": {},
   "source": [
    "Библиотека NumPy для элементов массива использует собственные типы данных, которые можно использовать так же, как соответсвующие встроенные. Особенность типов данных из NumPy в том, что для них четко определено количество бит, которое они занимаюь в памяти. Можно при создании массива указать и тип данных из библиотеки NumPy:"
   ]
  },
  {
   "cell_type": "code",
   "execution_count": 9,
   "metadata": {},
   "outputs": [
    {
     "name": "stdout",
     "output_type": "stream",
     "text": [
      "ndim=1, shape=(3,), size=3, dtype=int16\n",
      "[1 2 3]\n"
     ]
    }
   ],
   "source": [
    "# используем 16битовые целые числа для хранения элементов\n",
    "a = np.array([1, 2, 3], dtype=np.int16)\n",
    "print_array(a)"
   ]
  },
  {
   "cell_type": "markdown",
   "metadata": {},
   "source": [
    "Важно при этом понимать, какой диапазон значений можно хранить в том или ином типе (например, для int16 это $[-32768, 32767]$), потому что если впоследствии ваша программа присвоит элементу массива значение вне этого диапазона, оно будет сохранено неправильно!"
   ]
  },
  {
   "cell_type": "markdown",
   "metadata": {},
   "source": [
    "Часто бывает так, что при создании массива известная его форма, но не значения элементов. В этом случае можно воспользоваться функциями `zeros`, `ones` или `empty`, которые заполняют созданный массив нулями, единицами или случайными значениями. В качестве первого аргумента все эти функции принимают кортеж, описывающий форму массива:"
   ]
  },
  {
   "cell_type": "code",
   "execution_count": 10,
   "metadata": {},
   "outputs": [
    {
     "name": "stdout",
     "output_type": "stream",
     "text": [
      "ndim=3, shape=(2, 3, 4), size=24, dtype=float64\n",
      "[[[0. 0. 0. 0.]\n",
      "  [0. 0. 0. 0.]\n",
      "  [0. 0. 0. 0.]]\n",
      "\n",
      " [[0. 0. 0. 0.]\n",
      "  [0. 0. 0. 0.]\n",
      "  [0. 0. 0. 0.]]]\n"
     ]
    }
   ],
   "source": [
    "# создаем массив с 3мя осями;\n",
    "# он представляет собой массив из двух массивов, каждый из\n",
    "# которых содержит 3 массива, каждый из которых содержит 4 элемента\n",
    "a = np.zeros((2, 3, 4))\n",
    "print_array(a)"
   ]
  },
  {
   "cell_type": "markdown",
   "metadata": {},
   "source": [
    "Обратите внимание, что по умолчанию для элементов массива используется тип `float64`. С помощью именованного параметра `dtype` функции `zeros` и других можно указать желаемый тип элементов."
   ]
  },
  {
   "cell_type": "markdown",
   "metadata": {},
   "source": [
    "Наконец, библиотека NumPy предоставляет функцию `arange` для генерации числовой последовательности, аналогичную встроенной функции `range`. Отличие заключается в том, что с помощью `arange` можно генерировать и последовательности чисел с плавающей точкой."
   ]
  },
  {
   "cell_type": "code",
   "execution_count": 11,
   "metadata": {},
   "outputs": [
    {
     "name": "stdout",
     "output_type": "stream",
     "text": [
      "ndim=1, shape=(10,), size=10, dtype=int32\n",
      "[0 1 2 3 4 5 6 7 8 9]\n"
     ]
    }
   ],
   "source": [
    "# целые из интервала [0, 10) с шагом 1\n",
    "a = np.arange(10)\n",
    "print_array(a)"
   ]
  },
  {
   "cell_type": "code",
   "execution_count": 12,
   "metadata": {},
   "outputs": [
    {
     "name": "stdout",
     "output_type": "stream",
     "text": [
      "ndim=1, shape=(10,), size=10, dtype=float64\n",
      "[0.  0.1 0.2 0.3 0.4 0.5 0.6 0.7 0.8 0.9]\n"
     ]
    }
   ],
   "source": [
    "# действительные из интервала [0.0, 1.0) c шагом 0.1\n",
    "a = np.arange(0, 1, 0.1)\n",
    "print_array(a)"
   ]
  },
  {
   "cell_type": "markdown",
   "metadata": {},
   "source": [
    "Заметим, что использовать функцию `arange` для получения действительных чисел, стоит осторожно, потому что размер полученного массива может отличаться от ожидаемого (это связано с неточным представлением [чисел с плавающей точкой](04_Data_Types.ipynb#Типы-с-плавающей-точкой)). Более безопасной с этой точки зрения является функция `linspace`, которая возвращает указанное количество равноудаленных друг от друга чисел из интервала:"
   ]
  },
  {
   "cell_type": "code",
   "execution_count": 13,
   "metadata": {},
   "outputs": [
    {
     "name": "stdout",
     "output_type": "stream",
     "text": [
      "ndim=1, shape=(10,), size=10, dtype=float64\n",
      "[0.  0.1 0.2 0.3 0.4 0.5 0.6 0.7 0.8 0.9]\n"
     ]
    }
   ],
   "source": [
    "# 10 равноудаленных друг от друга чисел из интервала [0, 0.9]\n",
    "a = np.linspace(0, 0.9, 10)\n",
    "print_array(a)"
   ]
  },
  {
   "cell_type": "markdown",
   "metadata": {},
   "source": [
    "### Получение среза"
   ]
  },
  {
   "cell_type": "markdown",
   "metadata": {},
   "source": [
    "В случае одномерных массивов, получение срезов выполняется так же, как и для обычных последовательностей (списков, кортежей и т.д.). У многомерных массивов индексироваться может каждая ось. Если при этом отсутствует индекс для некоторой оси, то возвращаются все ее элементы. Срез объекта типа `ndarray` также имеет тип `ndarray`."
   ]
  },
  {
   "cell_type": "code",
   "execution_count": 14,
   "metadata": {},
   "outputs": [
    {
     "name": "stdout",
     "output_type": "stream",
     "text": [
      "5\n"
     ]
    }
   ],
   "source": [
    "a_multi = np.array([[0, 1, 2],\n",
    "                    [3, 4, 5],\n",
    "                    [6, 7, 8],\n",
    "                    [9, 10, 11]])\n",
    "\n",
    "# выводи третий элемент второй строки (помните, что нумерация\n",
    "# индексов начинается с нуля!)\n",
    "print(a_multi[1, 2]) "
   ]
  },
  {
   "cell_type": "code",
   "execution_count": 15,
   "metadata": {},
   "outputs": [
    {
     "name": "stdout",
     "output_type": "stream",
     "text": [
      "<class 'numpy.ndarray'>\n",
      "[[3 4 5]\n",
      " [6 7 8]]\n"
     ]
    }
   ],
   "source": [
    "# получаем срез, состоящий из второй и третьей строки\n",
    "result = a_multi[1:3]\n",
    "print(type(result))\n",
    "print(result)"
   ]
  },
  {
   "cell_type": "code",
   "execution_count": 16,
   "metadata": {},
   "outputs": [
    {
     "name": "stdout",
     "output_type": "stream",
     "text": [
      "[[ 9 11]\n",
      " [ 3  5]]\n"
     ]
    }
   ],
   "source": [
    "# получаем срез, состоящий из первого и третьего элемента\n",
    "# второй и четвертой строки, взятых в обратном порядке\n",
    "print(a_multi[3:0:-2, 0:3:2])"
   ]
  },
  {
   "cell_type": "markdown",
   "metadata": {},
   "source": [
    "Тип `ndarray` является итерируемым, поэтому его можно использовать в цикле `for ... in`. Итерация при этом происходит по первой оси (например, в случае матриц - по строкам):"
   ]
  },
  {
   "cell_type": "code",
   "execution_count": 17,
   "metadata": {},
   "outputs": [
    {
     "name": "stdout",
     "output_type": "stream",
     "text": [
      "[0 1 2]\n",
      "[3 4 5]\n",
      "[6 7 8]\n",
      "[ 9 10 11]\n"
     ]
    }
   ],
   "source": [
    "for row in a_multi:\n",
    "    print(row)"
   ]
  },
  {
   "cell_type": "markdown",
   "metadata": {},
   "source": [
    "Для итерации по элементам нужно использовать атрибут `flat`:"
   ]
  },
  {
   "cell_type": "code",
   "execution_count": 18,
   "metadata": {},
   "outputs": [
    {
     "name": "stdout",
     "output_type": "stream",
     "text": [
      "0\n",
      "1\n",
      "2\n",
      "3\n",
      "4\n",
      "5\n",
      "6\n",
      "7\n",
      "8\n",
      "9\n",
      "10\n",
      "11\n"
     ]
    }
   ],
   "source": [
    "for item in a_multi.flat:\n",
    "    print(item)"
   ]
  },
  {
   "cell_type": "markdown",
   "metadata": {},
   "source": [
    "Обратите внимание, что при итерации по элементам вначале изменяется последняя ось, потом предпоследняя и т.д. Например, для трехмерного массива $N_1 \\times N_2 \\times N_3$ элементы извлекались бы в такой последовательности:"
   ]
  },
  {
   "cell_type": "markdown",
   "metadata": {},
   "source": [
    "<pre>\n",
    "a[0][0][0], ..., a[0][0][N3], a[0][1][0], ..., a[0][N2][N3], a[1][0][0], ..., a[N1][N2][N3]\n",
    "</pre>"
   ]
  },
  {
   "cell_type": "markdown",
   "metadata": {},
   "source": [
    "Поскольку `ndarray` относится к изменяемым типам данных, его элементы можно модифицировать:"
   ]
  },
  {
   "cell_type": "code",
   "execution_count": 19,
   "metadata": {},
   "outputs": [
    {
     "name": "stdout",
     "output_type": "stream",
     "text": [
      "[[100   1   2]\n",
      " [  0   0   0]\n",
      " [ 20  21  22]\n",
      " [  9  10  11]]\n"
     ]
    }
   ],
   "source": [
    "a_multi[0, 0] = 100            # присваиваем первому элементу 100\n",
    "a_multi[1] = 0                 # присваиваем всем элементам второй строки 0\n",
    "a_multi[2] = np.arange(20, 23) # заменяем третью строку на строку [20, 21, 22]\n",
    "\n",
    "print(a_multi)"
   ]
  },
  {
   "cell_type": "markdown",
   "metadata": {},
   "source": [
    "### Изменение формы"
   ]
  },
  {
   "cell_type": "markdown",
   "metadata": {},
   "source": [
    "Класс `ndarray` предоставляет несколько методов и атрибутов, которые изменяют форму массива (количество и размер осей):"
   ]
  },
  {
   "cell_type": "markdown",
   "metadata": {},
   "source": [
    "| <div align=\"left\">Название</div> | Описание |\n",
    "|----------------------------------|----------|\n",
    "| <div align=\"left\"><samp>reshape(shape, ...)</samp></div>                                                                      | Возвращает новый массив с формой <samp>shape</samp> и заполненный элементами текущего                                        |\n",
    "| <div align=\"left\"><samp>resize(shape, ...)</samp></div>                                                                       | Изменяет форму текущего массива на <samp>shape</samp>                                                                        |\n",
    "| <div align=\"left\"><samp>ravel(...)</samp></div>                                                                               | Возвращает \"плоскую\" версию массива с одним измерением                                                                       |"
   ]
  },
  {
   "cell_type": "markdown",
   "metadata": {},
   "source": [
    "При заполнении нового массива, его первому элементу присваивается первый элемент старого, второму - второй и т.д. Причем порядок элементов соответствует тому, в котором они возвращались бы при итерации по всем элементам (по атрибуту `flat`)."
   ]
  },
  {
   "cell_type": "markdown",
   "metadata": {},
   "source": [
    "Еще класс `ndarray` предоставляет метод `transpose` и атрибут `T`, которые позволяют получить транспонированную версию многомерного массива."
   ]
  },
  {
   "cell_type": "code",
   "execution_count": 20,
   "metadata": {},
   "outputs": [],
   "source": [
    "a1 = np.arange(10)\n",
    "a2 = a1.reshape((2, 5))\n",
    "a3 = a2.T\n",
    "a4 = a3.ravel()"
   ]
  },
  {
   "cell_type": "code",
   "execution_count": 21,
   "metadata": {},
   "outputs": [
    {
     "name": "stdout",
     "output_type": "stream",
     "text": [
      "ndim=1, shape=(10,), size=10, dtype=int32\n",
      "[0 1 2 3 4 5 6 7 8 9]\n"
     ]
    }
   ],
   "source": [
    "print_array(a1)"
   ]
  },
  {
   "cell_type": "code",
   "execution_count": 22,
   "metadata": {},
   "outputs": [
    {
     "name": "stdout",
     "output_type": "stream",
     "text": [
      "ndim=2, shape=(2, 5), size=10, dtype=int32\n",
      "[[0 1 2 3 4]\n",
      " [5 6 7 8 9]]\n"
     ]
    }
   ],
   "source": [
    "print_array(a2)"
   ]
  },
  {
   "cell_type": "code",
   "execution_count": 23,
   "metadata": {},
   "outputs": [
    {
     "name": "stdout",
     "output_type": "stream",
     "text": [
      "ndim=2, shape=(5, 2), size=10, dtype=int32\n",
      "[[0 5]\n",
      " [1 6]\n",
      " [2 7]\n",
      " [3 8]\n",
      " [4 9]]\n"
     ]
    }
   ],
   "source": [
    "print_array(a3)"
   ]
  },
  {
   "cell_type": "code",
   "execution_count": 24,
   "metadata": {},
   "outputs": [
    {
     "name": "stdout",
     "output_type": "stream",
     "text": [
      "ndim=1, shape=(10,), size=10, dtype=int32\n",
      "[0 5 1 6 2 7 3 8 4 9]\n"
     ]
    }
   ],
   "source": [
    "print_array(a4)"
   ]
  },
  {
   "cell_type": "markdown",
   "metadata": {},
   "source": [
    "Для объединения нескольких многомерных массивов в один класс `ndarray` предоставляет следующие функции:"
   ]
  },
  {
   "cell_type": "markdown",
   "metadata": {},
   "source": [
    "| <div align=\"left\">Название</div> | Описание |\n",
    "|----------------------------------|----------|\n",
    "| <div align=\"left\"><samp>hstack(arrays_seq)</samp></div>                                                                       | Возвращает новый массив, каждая строка которого является конкатенацией строк массивов из последовательности <samp>arrays_seq</samp>                                                                                                        |\n",
    "| <div align=\"left\"><samp>vstack(arrays_seq)</samp></div>                                                                       | Возвращает новый массив, каждый столбец которого является конкатенацией столбцов массивов из последовательности <samp>arrays_seq</samp>                                                                                                        |"
   ]
  },
  {
   "cell_type": "code",
   "execution_count": 25,
   "metadata": {},
   "outputs": [],
   "source": [
    "a1 = np.array([[1, 2, 3],\n",
    "               [4, 5, 6],\n",
    "               [7, 8, 9]])\n",
    "a2 = np.array([[11, 12],\n",
    "               [13, 14],\n",
    "               [15, 16]])\n",
    "a3 = np.array([[11, 12, 13],\n",
    "               [14, 15, 16]])"
   ]
  },
  {
   "cell_type": "code",
   "execution_count": 26,
   "metadata": {},
   "outputs": [
    {
     "name": "stdout",
     "output_type": "stream",
     "text": [
      "ndim=2, shape=(3, 5), size=15, dtype=int32\n",
      "[[ 1  2  3 11 12]\n",
      " [ 4  5  6 13 14]\n",
      " [ 7  8  9 15 16]]\n"
     ]
    }
   ],
   "source": [
    "print_array(np.hstack([a1, a2]))"
   ]
  },
  {
   "cell_type": "code",
   "execution_count": 27,
   "metadata": {},
   "outputs": [
    {
     "name": "stdout",
     "output_type": "stream",
     "text": [
      "ndim=2, shape=(5, 3), size=15, dtype=int32\n",
      "[[ 1  2  3]\n",
      " [ 4  5  6]\n",
      " [ 7  8  9]\n",
      " [11 12 13]\n",
      " [14 15 16]]\n"
     ]
    }
   ],
   "source": [
    "print_array(np.vstack((a1, a3)))"
   ]
  },
  {
   "cell_type": "markdown",
   "metadata": {},
   "source": [
    "Для разбиения многомерного массива на несколько меньших, используются функции `hsplit` и `vsplit`. Если им передается числовой аргумент, то он трактуется как количество массивов, на которое нужно разбить исходный, а если последовательность, то ее элементы трактуются как индексы, по которым нужно производить разбиение:"
   ]
  },
  {
   "cell_type": "code",
   "execution_count": 28,
   "metadata": {},
   "outputs": [
    {
     "name": "stdout",
     "output_type": "stream",
     "text": [
      "ndim=2, shape=(2, 9), size=18, dtype=int32\n",
      "[[ 0  1  2  3  4  5  6  7  8]\n",
      " [ 9 10 11 12 13 14 15 16 17]]\n"
     ]
    }
   ],
   "source": [
    "a = np.arange(18)\n",
    "a.resize(2, 9)\n",
    "print_array(a)"
   ]
  },
  {
   "cell_type": "code",
   "execution_count": 29,
   "metadata": {},
   "outputs": [
    {
     "name": "stdout",
     "output_type": "stream",
     "text": [
      "ndim=2, shape=(2, 3), size=6, dtype=int32\n",
      "[[ 0  1  2]\n",
      " [ 9 10 11]]\n",
      "ndim=2, shape=(2, 3), size=6, dtype=int32\n",
      "[[ 3  4  5]\n",
      " [12 13 14]]\n",
      "ndim=2, shape=(2, 3), size=6, dtype=int32\n",
      "[[ 6  7  8]\n",
      " [15 16 17]]\n"
     ]
    }
   ],
   "source": [
    "arrays = np.hsplit(a, 3)\n",
    "\n",
    "for array in arrays:\n",
    "    print_array(array)"
   ]
  },
  {
   "cell_type": "code",
   "execution_count": 30,
   "metadata": {},
   "outputs": [
    {
     "name": "stdout",
     "output_type": "stream",
     "text": [
      "ndim=2, shape=(2, 2), size=4, dtype=int32\n",
      "[[ 0  9]\n",
      " [ 1 10]]\n",
      "ndim=2, shape=(3, 2), size=6, dtype=int32\n",
      "[[ 2 11]\n",
      " [ 3 12]\n",
      " [ 4 13]]\n",
      "ndim=2, shape=(3, 2), size=6, dtype=int32\n",
      "[[ 5 14]\n",
      " [ 6 15]\n",
      " [ 7 16]]\n",
      "ndim=2, shape=(1, 2), size=2, dtype=int32\n",
      "[[ 8 17]]\n"
     ]
    }
   ],
   "source": [
    "arrays = np.vsplit(a.T, [2, 5, 8])\n",
    "\n",
    "for array in arrays:\n",
    "    print_array(array)"
   ]
  },
  {
   "cell_type": "markdown",
   "metadata": {},
   "source": [
    "### Операции и универсальные функции"
   ]
  },
  {
   "cell_type": "markdown",
   "metadata": {},
   "source": [
    "Обычные операции в Python перегружены для массива и при выполнении действуют на все его элементы:"
   ]
  },
  {
   "cell_type": "code",
   "execution_count": 31,
   "metadata": {},
   "outputs": [
    {
     "name": "stdout",
     "output_type": "stream",
     "text": [
      "ndim=2, shape=(3, 4), size=12, dtype=int32\n",
      "[[ 0  1  2  3]\n",
      " [ 4  5  6  7]\n",
      " [ 8  9 10 11]]\n"
     ]
    }
   ],
   "source": [
    "a = np.arange(12).reshape((3, 4))\n",
    "print_array(a)"
   ]
  },
  {
   "cell_type": "code",
   "execution_count": 32,
   "metadata": {},
   "outputs": [
    {
     "name": "stdout",
     "output_type": "stream",
     "text": [
      "[[ 1  2  3  4]\n",
      " [ 5  6  7  8]\n",
      " [ 9 10 11 12]]\n"
     ]
    }
   ],
   "source": [
    "a += 1\n",
    "print(a)"
   ]
  },
  {
   "cell_type": "markdown",
   "metadata": {},
   "source": [
    "Если в качестве операндов используются два массива одинаковой размерности, то операция выполняется для всех пар элементов на соответствующих позициях, например:"
   ]
  },
  {
   "cell_type": "code",
   "execution_count": 33,
   "metadata": {},
   "outputs": [
    {
     "name": "stdout",
     "output_type": "stream",
     "text": [
      "ndim=2, shape=(2, 2), size=4, dtype=int32\n",
      "[[7 6]\n",
      " [5 4]]\n",
      "ndim=2, shape=(2, 2), size=4, dtype=int32\n",
      "[[0 1]\n",
      " [2 3]]\n"
     ]
    }
   ],
   "source": [
    "a1 = np.arange(7, 3, -1).reshape(2, 2)\n",
    "a2 = np.arange(4).reshape(2, 2)\n",
    "\n",
    "print_array(a1)\n",
    "print_array(a2)"
   ]
  },
  {
   "cell_type": "code",
   "execution_count": 34,
   "metadata": {},
   "outputs": [
    {
     "name": "stdout",
     "output_type": "stream",
     "text": [
      "[[ 0  6]\n",
      " [10 12]]\n",
      "[[ 1  6]\n",
      " [25 64]]\n"
     ]
    }
   ],
   "source": [
    "print(a1 * a2)\n",
    "print(a1 ** a2)"
   ]
  },
  {
   "cell_type": "markdown",
   "metadata": {},
   "source": [
    "Если вместо поэлементного умножения вы хотите матричное, то нужно воспользоваться функцией `dot`:"
   ]
  },
  {
   "cell_type": "code",
   "execution_count": 35,
   "metadata": {},
   "outputs": [
    {
     "name": "stdout",
     "output_type": "stream",
     "text": [
      "ndim=2, shape=(2, 3), size=6, dtype=int32\n",
      "[[0 1 2]\n",
      " [3 4 5]]\n",
      "ndim=2, shape=(3, 2), size=6, dtype=int32\n",
      "[[0 1]\n",
      " [2 3]\n",
      " [4 5]]\n",
      "ndim=2, shape=(2, 2), size=4, dtype=int32\n",
      "[[10 13]\n",
      " [28 40]]\n"
     ]
    }
   ],
   "source": [
    "a1 = np.arange(6).reshape(2, 3)\n",
    "a2 = np.arange(6).reshape(3, 2)\n",
    "\n",
    "print_array(a1)\n",
    "print_array(a2)\n",
    "print_array(np.dot(a1, a2))"
   ]
  },
  {
   "cell_type": "markdown",
   "metadata": {},
   "source": [
    "Методы `sum`, `max` и `min`, определенные для встроенных коллекций Python, также определены и для класса `ndarray`. По умолчанию они работают со всеми элементами массива, но можно также указать конкретную ось, вдоль которой производить вычисления."
   ]
  },
  {
   "cell_type": "code",
   "execution_count": 36,
   "metadata": {},
   "outputs": [
    {
     "name": "stdout",
     "output_type": "stream",
     "text": [
      "ndim=2, shape=(3, 2), size=6, dtype=int32\n",
      "[[0 1]\n",
      " [2 3]\n",
      " [4 5]]\n"
     ]
    }
   ],
   "source": [
    "a = np.arange(6).reshape(3, 2)\n",
    "print_array(a)"
   ]
  },
  {
   "cell_type": "code",
   "execution_count": 37,
   "metadata": {},
   "outputs": [
    {
     "name": "stdout",
     "output_type": "stream",
     "text": [
      "max=5, min=0\n",
      "[1 5 9]\n"
     ]
    }
   ],
   "source": [
    "print('max={}, min={}'.format(a.max(), a.min()))\n",
    "\n",
    "# вычисляем по столбцам (axis=1), следовательно в результате\n",
    "# получим сумму элементов для каждой строки\n",
    "print(a.sum(axis=1)) "
   ]
  },
  {
   "cell_type": "markdown",
   "metadata": {},
   "source": [
    "В модуле `numpy.random` содержатся функции для генерации случайных массивов произвольной размерности. Например, функция `random` из этого модуля создает массив указанной формы и заполняет его случайными числами, равномерно распределенными в интервале $[0, 1)$:"
   ]
  },
  {
   "cell_type": "code",
   "execution_count": 38,
   "metadata": {},
   "outputs": [
    {
     "name": "stdout",
     "output_type": "stream",
     "text": [
      "ndim=2, shape=(3, 3), size=9, dtype=float64\n",
      "[[0.58631905 0.05127804 0.11899227]\n",
      " [0.441545   0.92873822 0.56905112]\n",
      " [0.99834455 0.30801818 0.98670992]]\n"
     ]
    }
   ],
   "source": [
    "a = np.random.random((3, 3))\n",
    "print_array(a)"
   ]
  },
  {
   "cell_type": "markdown",
   "metadata": {},
   "source": [
    "В NumPy реализованы те же математические функции, что встречаются в стандартной библиотеке Python, однако они дополнительно умеют работать с массивами. В терминологии библиотеки NumPy эти функции назваются **универсальными**."
   ]
  },
  {
   "cell_type": "code",
   "execution_count": 39,
   "metadata": {},
   "outputs": [
    {
     "name": "stdout",
     "output_type": "stream",
     "text": [
      "[[1. 2. 3.]\n",
      " [4. 5. 6.]]\n"
     ]
    }
   ],
   "source": [
    "a = np.array([[1, 4, 9],\n",
    "              [16, 25, 36]])\n",
    "print(np.sqrt(a))"
   ]
  },
  {
   "cell_type": "code",
   "execution_count": 40,
   "metadata": {},
   "outputs": [
    {
     "name": "stdout",
     "output_type": "stream",
     "text": [
      "0.8660254037844386\n",
      "[0.         0.5        0.70710678 0.8660254  1.        ]\n"
     ]
    }
   ],
   "source": [
    "a = np.array([0, 30, 45, 60, 90], dtype=float) # градусы\n",
    "a *= np.pi / 180                               # преобразуем в радианы\n",
    "\n",
    "# вычисляем синус для обычного числа и для массива\n",
    "print(np.sin(a[3]))\n",
    "print(np.sin(a))"
   ]
  },
  {
   "cell_type": "code",
   "execution_count": 42,
   "metadata": {},
   "outputs": [
    {
     "name": "stdout",
     "output_type": "stream",
     "text": [
      "[0.39414892 0.69290907 0.45752525 0.86760323 0.67310272 0.37046983\n",
      " 0.28611752 0.5529459  0.30555544 0.26226436]\n",
      "mean: 0.4862642232874669\n",
      "variance: 0.0373086402544582\n"
     ]
    }
   ],
   "source": [
    "a = np.random.random(10)\n",
    "print(a)\n",
    "\n",
    "print('mean:',np.mean(a))     # вычисляем математической ожидание\n",
    "print('variance:', np.var(a)) # вычисляет дисперсию"
   ]
  },
  {
   "cell_type": "markdown",
   "metadata": {},
   "source": [
    "## Matplotlib"
   ]
  },
  {
   "cell_type": "markdown",
   "metadata": {},
   "source": [
    "Библиотека [Matplotlib](https://matplotlib.org/) используется для создания различных 2D и 3D графиков и диаграмм, среди которых:"
   ]
  },
  {
   "cell_type": "markdown",
   "metadata": {},
   "source": [
    "* обычные графики (англ. *line plot*)\n",
    "* диаграммы разброса/рассеивания (англ. *scatter plot*), характеризующие корреляцию между различными факторами\n",
    "* гистограммы (англ. *histogram*)\n",
    "* столбчатые диаграммы (англ. *bar chart*)\n",
    "* круговые диаграммы (англ. *pie chart*)\n",
    "* и другие"
   ]
  },
  {
   "cell_type": "markdown",
   "metadata": {},
   "source": [
    "Функции и типы Matplotlib умеют работать с массивами NumPy, и более того, практически никогда не используются без них. В библиотеке Matplotlib релиазовано два интерфейса - один процедурный, другой объектно-ориентированный. Мы будем использовать процедурный, который реализован в модуле `matplotlib.pyplot`. Давайте импортируем модули, которые мы будем использовать в примерах в этом разделе."
   ]
  },
  {
   "cell_type": "code",
   "execution_count": 46,
   "metadata": {},
   "outputs": [],
   "source": [
    "import numpy as np\n",
    "import matplotlib.pyplot as plt"
   ]
  },
  {
   "cell_type": "markdown",
   "metadata": {},
   "source": [
    "### График"
   ]
  },
  {
   "cell_type": "markdown",
   "metadata": {},
   "source": [
    "Обычный график создается с помощью функции `plot`. Основными ее парамерами являются две последовательности: в первой содержатся абсциссы точек, а во второй их ординаты. Функция `plot` строит график таким образом, чтобы он проходил через эти точки. Это означает, что чем сложнее форма графика, тем больше точек нужно передать в `plot`. Например, для построения прямой достаточно двух точек, но этого явно мало, чтобы правильно нарисовать параболу."
   ]
  },
  {
   "cell_type": "markdown",
   "metadata": {},
   "source": [
    "Кроме координат точек, функция `plot` имеет множество других параметров для настройки того, как график будет выглядеть. В наших примерах мы познакомим вас некоторыми из них, а полную информацию можно получить в [справочном руководстве](https://matplotlib.org/api/_as_gen/matplotlib.pyplot.plot.html#matplotlib.pyplot.plot)."
   ]
  },
  {
   "cell_type": "markdown",
   "metadata": {},
   "source": [
    "Давайте начнем с простого примера и создадим график прямой линии $2x + 1$:"
   ]
  },
  {
   "cell_type": "code",
   "execution_count": 71,
   "metadata": {},
   "outputs": [
    {
     "data": {
      "text/plain": [
       "[<matplotlib.lines.Line2D at 0x9ff3358>]"
      ]
     },
     "execution_count": 71,
     "metadata": {},
     "output_type": "execute_result"
    },
    {
     "data": {
      "image/png": "[encoded data removed]",
      "text/plain": [
       "<matplotlib.figure.Figure at 0x8c611d0>"
      ]
     },
     "metadata": {},
     "output_type": "display_data"
    }
   ],
   "source": [
    "# двух точек достаточно для того, чтобы построить прямую\n",
    "\n",
    "x = [0, 2] # ординаты\n",
    "y = [1, 5] # абсциссы\n",
    "\n",
    "plt.plot(x, y)"
   ]
  },
  {
   "cell_type": "markdown",
   "metadata": {},
   "source": [
    "Заметим, что сама функция `plot` не рисует график, а просто инициализирует нужную информацию для этого. В среде Jupyter Notebook по умолчанию используется режим, при котором вывод графика на экран происходит автоматически при выполнении ячейки, но вообще говоря, за это отвечает отдельная функция `show`. Если вы при работе с Matplotlib столкнетесь с ситуаций, когда график не отображается, в первую очередь стоит попробовать вызвать эту функцию."
   ]
  },
  {
   "cell_type": "markdown",
   "metadata": {},
   "source": [
    "Давайте немного иначе настроим наш график, чтобы продемонстрировать некоторые возможности Matplotlib:"
   ]
  },
  {
   "cell_type": "code",
   "execution_count": 84,
   "metadata": {},
   "outputs": [
    {
     "data": {
      "image/png": "[encoded data removed]",
      "text/plain": [
       "<matplotlib.figure.Figure at 0x9de1cf8>"
      ]
     },
     "metadata": {},
     "output_type": "display_data"
    }
   ],
   "source": [
    "x = np.array([0, 2])\n",
    "y = np.array([1, 5])\n",
    "\n",
    "# задаем дополнительно цвет линии и толщину\n",
    "plt.plot(x, y, color='red', linewidth=2.5)\n",
    "\n",
    "# установим границы осей X и Y так, чтобы график не\n",
    "# выглядел \"зажатым\" осями координат\n",
    "plt.xlim(x.min() - 0.5, x.max() + 0.5)\n",
    "plt.ylim(y.min() - 0.5, y.max() + 0.5)\n",
    "\n",
    "# определим, какие точки будут отмечены на осях\n",
    "x_ticks = np.linspace(x.min(), x.max(), 2)\n",
    "y_ticks = np.linspace(y.min(), y.max(), 2)\n",
    "plt.xticks(x_ticks)\n",
    "plt.yticks(y_ticks)\n",
    "\n",
    "# определим, как будут подписаны координатные оси\n",
    "plt.xlabel('abscissa')\n",
    "plt.ylabel('ordinate')\n",
    "\n",
    "# рисуем график\n",
    "plt.show()"
   ]
  },
  {
   "cell_type": "markdown",
   "metadata": {},
   "source": [
    "Можно в одной системе координат отобразить сразу несколько графиков. Давайте попробуем вывести графики синуса и косинуса."
   ]
  },
  {
   "cell_type": "code",
   "execution_count": 94,
   "metadata": {},
   "outputs": [
    {
     "data": {
      "image/png": "[encoded data removed]",
      "text/plain": [
       "<matplotlib.figure.Figure at 0xb2a4c50>"
      ]
     },
     "metadata": {},
     "output_type": "display_data"
    }
   ],
   "source": [
    "x = np.linspace(-np.pi, np.pi, 200)\n",
    "cos_x = np.cos(x)\n",
    "sin_x = np.sin(x)\n",
    "\n",
    "# добавляем два графика, устанавливаем для них цвет, тип линии\n",
    "# и название\n",
    "plt.plot(x, cos_x, color='red', linestyle='dashed', label='cosine')\n",
    "plt.plot(x, sin_x, color='green', linestyle='dotted', label='sine')\n",
    "\n",
    "# добавляем легеду (информацию о том, какая линия что означает)\n",
    "plt.legend()\n",
    "\n",
    "# определяем, какие точки будут отмечены на осях\n",
    "# можно в качестве значения указывать LaTex-формулу (используем\n",
    "# это для того, чтобы вместо, например, 3.1415.. было написано pi)\n",
    "x_ticks = np.array([-np.pi, -np.pi/2, 0, np.pi/2, np.pi])\n",
    "x_ticks_name = [r'$-\\pi$', r'$-\\pi/2$', r'$0$', r'$\\pi/2$', r'$\\pi$']\n",
    "y_ticks = np.array([-1, -0.5, 0, 0.5, 1])\n",
    "y_ticks_name = [r'$-1$', r'$-0.5$', r'$0$', r'$0.5$', r'$1$']\n",
    "\n",
    "plt.xticks(x_ticks, x_ticks_name)\n",
    "plt.yticks(y_ticks, y_ticks_name)\n",
    "\n",
    "# рисуем график\n",
    "plt.show()"
   ]
  },
  {
   "cell_type": "markdown",
   "metadata": {},
   "source": [
    "Теперь давайте попробуем настроить координатные оси таким образом, чтобы центр графика находился в точке $(0, 0)$, как мы привыкли со школы. Для этого нам потребуется метод `gca`, возвращающий объект, который можно использовать для управления внешним видом координатных осей. На графике сверху есть четыре оси, образующих прямоугольник, внутри которого находяся графики. Нам нужно скрыть две из них (например, ту, что сверху и ту, что справа), а оставшиеся две поместить в точку $(0, 0)$:"
   ]
  },
  {
   "cell_type": "code",
   "execution_count": 95,
   "metadata": {},
   "outputs": [
    {
     "data": {
      "image/png": "[encoded data removed]",
      "text/plain": [
       "<matplotlib.figure.Figure at 0xb2f3d30>"
      ]
     },
     "metadata": {},
     "output_type": "display_data"
    }
   ],
   "source": [
    "x = np.linspace(-np.pi, np.pi, 200)\n",
    "cos_x = np.cos(x)\n",
    "sin_x = np.sin(x)\n",
    "\n",
    "# добавляем два графика, устанавливаем для них цвет, тип линии\n",
    "# и название\n",
    "plt.plot(x, cos_x, color='red', linestyle='dashed', label='cosine')\n",
    "plt.plot(x, sin_x, color='green', linestyle='dotted', label='sine')\n",
    "\n",
    "# добавляем легеду (информацию о том, какая линия что означает)\n",
    "plt.legend()\n",
    "\n",
    "# определяем, какие точки будут отмечены на осях\n",
    "# можно в качестве значения указывать LaTex-формулу (используем\n",
    "# это для того, чтобы вместо, например, 3.1415.. было написано pi)\n",
    "x_ticks = np.array([-np.pi, -np.pi/2, 0, np.pi/2, np.pi])\n",
    "x_ticks_name = [r'$-\\pi$', r'$-\\pi/2$', r'$0$', r'$\\pi/2$', r'$\\pi$']\n",
    "y_ticks = np.array([-1, -0.5, 0, 0.5, 1])\n",
    "y_ticks_name = [r'$-1$', r'$-0.5$', r'$0$', r'$0.5$', r'$1$']\n",
    "\n",
    "plt.xticks(x_ticks, x_ticks_name)\n",
    "plt.yticks(y_ticks, y_ticks_name)\n",
    "\n",
    "# меняем положение координатных осей\n",
    "axes = plt.gca()\n",
    "\n",
    "    # скрываем две оси\n",
    "axes.spines['top'].set_color(None)\n",
    "axes.spines['right'].set_color(None)\n",
    "\n",
    "    # устаналиваем позицию левой и правой оси;\n",
    "    # data' означает, что 0 - это координата, через которую должна проходить ось\n",
    "axes.spines['left'].set_position(('data', 0))\n",
    "axes.spines['bottom'].set_position(('data', 0))\n",
    "\n",
    "# рисуем график\n",
    "plt.show()"
   ]
  },
  {
   "cell_type": "markdown",
   "metadata": {},
   "source": [
    "### Диаграмма разброса"
   ]
  },
  {
   "cell_type": "markdown",
   "metadata": {},
   "source": [
    "Диаграмма разброса используется тогда, когда нужно оценить корреляцию между несколькими факторами. Для примера, в качестве одного фактора мы возьмем просто случайные, ничего не означающие данные. Второй фактор мы получим как сумму первого и некоторой случайной величины с достаточно большой дисперсией. Очевидно, что между этими двумя значениями мы должны увидеть положительную корреляцию - с ростом одного, увеличивается и второе. Проверим это на практике:"
   ]
  },
  {
   "cell_type": "code",
   "execution_count": 178,
   "metadata": {},
   "outputs": [
    {
     "data": {
      "image/png": "[encoded data removed]",
      "text/plain": [
       "<matplotlib.figure.Figure at 0xd834a58>"
      ]
     },
     "metadata": {},
     "output_type": "display_data"
    }
   ],
   "source": [
    "from random import uniform\n",
    "from random import normalvariate\n",
    "\n",
    "# используем генератор, чтобы создать массив случайных данных\n",
    "x = np.array([uniform(0, 100) for i in range(1000)])\n",
    "y = np.array([item + normalvariate(0, 20) for item in x])\n",
    "\n",
    "# строим диаграмму разброса\n",
    "plt.scatter(x, y)\n",
    "plt.show()"
   ]
  },
  {
   "cell_type": "markdown",
   "metadata": {},
   "source": [
    "Несмотря на то, что мы выбрали большое значение стандартного отклонения для случайной величины, с помощью которой мы оказывали влияние на первый фактор, положительная корреляция видна невооруженным глазом: с ростом $x$ возрастает $y$. Если стандартное отклонение продолжить увеличивать, то в определенный момент корреляция, очевидно, пропадет. Убедитесь в этом сами."
   ]
  },
  {
   "cell_type": "markdown",
   "metadata": {},
   "source": [
    "### Гистограмма"
   ]
  },
  {
   "cell_type": "markdown",
   "metadata": {},
   "source": [
    "Гистограммы часто используются для того, чтобы сделать предположение о том, какому распределению подчиняется случайная выборка: по выборке строится гистограмма, а затем сравнивается, плотность распределения какого закона она напоминает больше всего. В качестве примере, рассмотрим выборку из нормального закона распределения, но вообразим, что нам это неизвестно:"
   ]
  },
  {
   "cell_type": "code",
   "execution_count": 184,
   "metadata": {},
   "outputs": [
    {
     "data": {
      "image/png": "[encoded data removed]",
      "text/plain": [
       "<matplotlib.figure.Figure at 0xda94908>"
      ]
     },
     "metadata": {},
     "output_type": "display_data"
    }
   ],
   "source": [
    "from math import sqrt\n",
    "from random import normalvariate\n",
    "\n",
    "def norm_density(x, mean, std):\n",
    "    tmp1 = 1 / (std * np.sqrt(2 * np.pi))\n",
    "    tmp2 = -((x - mean)**2 / 2 * std**2)\n",
    "    return tmp1 * (np.e ** tmp2)\n",
    "\n",
    "\n",
    "x = np.array([normalvariate(3, 1) for i in range(10000)])\n",
    "\n",
    "# добавляем гистограмму на график (bins - количество столбиков в ней)\n",
    "plt.hist(x, bins=15, density=True)\n",
    "\n",
    "# добавим еще для наглядности график плотности распределени\n",
    "x_mean = np.mean(x)\n",
    "x_std = np.std(x) # стандартное отклонение\n",
    "density_x = np.linspace(x.min(), x.max(), 200)\n",
    "density_y = np.array([norm_density(item, x_mean, x_std) for item in density_x])\n",
    "plt.plot(density_x, density_y, linewidth=2.5, color='red')\n",
    "\n",
    "# рисуем графики\n",
    "plt.show()"
   ]
  },
  {
   "cell_type": "markdown",
   "metadata": {},
   "source": [
    "Как видите, гистограмма, построенная по выборке из \"неизвестной\" случайной величины, по форме похожа на плотность нормального распределения. Исходя из этого можно сделать вывод, что \"неизвестная\" случайная величина имеет закон распределения, близкий к нормальному."
   ]
  },
  {
   "cell_type": "markdown",
   "metadata": {},
   "source": [
    "В заключение дадим очень полезную [ссылку](https://matplotlib.org/tutorials/index.html) на раздел документации библиотеки Matplotlib, по которой можно найти большое количество примеров графиков вместе с исходным кодом, строящим их. Примеры оттуда позволяют увидеть весь спектр возможностей Matplotlib."
   ]
  },
  {
   "cell_type": "markdown",
   "metadata": {},
   "source": [
    "## pandas"
   ]
  },
  {
   "cell_type": "markdown",
   "metadata": {},
   "source": [
    "- - -\n",
    "[Предыдущая: Стандартная библиотека](10_Standard_Library.ipynb) |\n",
    "[Содержание](00_Overview.ipynb#Содержание)"
   ]
  }
 ],
 "metadata": {
  "kernelspec": {
   "display_name": "Python 3",
   "language": "python",
   "name": "python3"
  },
  "language_info": {
   "codemirror_mode": {
    "name": "ipython",
    "version": 3
   },
   "file_extension": ".py",
   "mimetype": "text/x-python",
   "name": "python",
   "nbconvert_exporter": "python",
   "pygments_lexer": "ipython3",
   "version": "3.6.4"
  }
 },
 "nbformat": 4,
 "nbformat_minor": 2
}
